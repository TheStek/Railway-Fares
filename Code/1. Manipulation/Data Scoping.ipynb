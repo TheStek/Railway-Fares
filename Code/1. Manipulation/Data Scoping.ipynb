{
 "cells": [
  {
   "cell_type": "code",
   "execution_count": 1,
   "metadata": {},
   "outputs": [],
   "source": [
    "import pandas as pd\n",
    "import numpy as np"
   ]
  },
  {
   "cell_type": "code",
   "execution_count": 2,
   "metadata": {},
   "outputs": [],
   "source": [
    "data_location = \"C:\\\\Users\\\\User\\\\Documents\\\\4. Fourth Year\\\\Project\\\\Railway-Fares\\\\Data\\\\\"\n",
    "output_location = \"C:\\\\Users\\\\User\\\\Documents\\\\4. Fourth Year\\\\Project\\\\Railway-Fares\\Data\\\\Cleansed Data\\\\\""
   ]
  },
  {
   "cell_type": "code",
   "execution_count": 3,
   "metadata": {},
   "outputs": [],
   "source": [
    "# Read in all files needed\n",
    "\n",
    "station_master = pd.read_csv(output_location + \"station.csv\", dtype = str)\n",
    "simd_lookup = pd.read_csv(data_location + \"SIMD Postcode Lookup.csv\", dtype = str)\n",
    "simd = pd.read_csv(data_location + \"simd2020_withinds.csv\", dtype = str)\n",
    "\n",
    "\n",
    "clusters = pd.read_csv(data_location + r\"Parsed Fare Data\\Station_Cluster.csv\", dtype = str)\n",
    "fare = pd.read_csv(data_location + r\"Parsed Fare Data\\Fare.csv\", dtype = str)\n",
    "flow = pd.read_csv(data_location + r\"Parsed Fare Data\\Flow.csv\", dtype = str)\n",
    "ticket_types = pd.read_csv(data_location + r\"Parsed Fare Data\\Ticket_Types.csv\", dtype = str)"
   ]
  },
  {
   "cell_type": "code",
   "execution_count": 4,
   "metadata": {},
   "outputs": [],
   "source": [
    "def fix_NLC(nlc):\n",
    "    length = len(nlc)\n",
    "    if length < 4:\n",
    "        return \"\".join(['0' for i in range(4-length)]) + nlc\n",
    "    else:\n",
    "        return nlc\n",
    "    \n",
    "station_master[\"NLC\"] = station_master[\"NLC\"].apply(fix_NLC)\n",
    "        "
   ]
  },
  {
   "cell_type": "code",
   "execution_count": 5,
   "metadata": {},
   "outputs": [],
   "source": [
    "flow = flow[[\"ORIGIN_CODE\", \"DESTINATION_CODE\", \"ROUTE_CODE\", \"DIRECTION\", \"END_DATE\", \"START_DATE\", \"FLOW_ID\"]]\n",
    "flow_inscope = flow.merge(station_master[[\"NLC\", \"Name\"]], left_on = \"ORIGIN_CODE\", right_on = \"NLC\")\n",
    "flow_inscope = flow_inscope.merge(station_master[[\"NLC\", \"Name\"]], left_on = \"DESTINATION_CODE\", right_on = \"NLC\", suffixes = (\"\", \"_dest\"))"
   ]
  },
  {
   "cell_type": "code",
   "execution_count": 6,
   "metadata": {},
   "outputs": [],
   "source": [
    "fares_out = fare.merge(flow_inscope, on = \"FLOW_ID\")\n",
    "fares_out = fares_out[[\"TICKET_CODE\", \"FARE\", \"RESTRICTION_CODE\", \"ORIGIN_CODE\", \"DESTINATION_CODE\", \"DIRECTION\", \"END_DATE\", \"START_DATE\"]]"
   ]
  },
  {
   "cell_type": "code",
   "execution_count": 7,
   "metadata": {},
   "outputs": [],
   "source": [
    "ticket_types_inscope = ticket_types[(ticket_types[\"TKT_GROUP\"] == 'S') & (ticket_types[\"TKT_TYPE\"] == 'S')][[\"TICKET_CODE\", \"DESCRIPTION\"]]"
   ]
  },
  {
   "cell_type": "code",
   "execution_count": 8,
   "metadata": {},
   "outputs": [],
   "source": [
    "fares_inscope = fares_out.merge(ticket_types_inscope, on = \"TICKET_CODE\")[[\"TICKET_CODE\", \"FARE\", \"RESTRICTION_CODE\", \"ORIGIN_CODE\", \"DESTINATION_CODE\", \"DIRECTION\", \"END_DATE\", \"START_DATE\"]]"
   ]
  },
  {
   "cell_type": "code",
   "execution_count": 9,
   "metadata": {},
   "outputs": [],
   "source": [
    "station_datazone = station_master.merge(simd_lookup, how = 'left', on = \"Postcode\")\n",
    "station_datazone = station_datazone[[\"NLC\", \"DZ\"]]\n",
    "datazone_info = simd[[\"Data_Zone\", \"Intermediate_Zone\", \"Council_area\"]]\n",
    "station_datazone = station_datazone.merge(datazone_info, how = 'left', left_on = \"DZ\", right_on = \"Data_Zone\")\n",
    "station_datazone = station_datazone[[\"NLC\"] + list(datazone_info.columns)]"
   ]
  },
  {
   "cell_type": "code",
   "execution_count": 10,
   "metadata": {},
   "outputs": [],
   "source": [
    "# Output final files\n",
    "fares_inscope.to_csv(output_location + \"fares.csv\", index = False)\n",
    "ticket_types.to_csv(output_location + \"ticket_types.csv\", index = False)\n",
    "station_datazone.to_csv(output_location + \"station_datazone.csv\", index = False)"
   ]
  },
  {
   "cell_type": "code",
   "execution_count": null,
   "metadata": {},
   "outputs": [],
   "source": []
  },
  {
   "cell_type": "code",
   "execution_count": null,
   "metadata": {},
   "outputs": [],
   "source": []
  },
  {
   "cell_type": "code",
   "execution_count": null,
   "metadata": {},
   "outputs": [],
   "source": []
  }
 ],
 "metadata": {
  "kernelspec": {
   "display_name": "Python 3",
   "language": "python",
   "name": "python3"
  },
  "language_info": {
   "codemirror_mode": {
    "name": "ipython",
    "version": 3
   },
   "file_extension": ".py",
   "mimetype": "text/x-python",
   "name": "python",
   "nbconvert_exporter": "python",
   "pygments_lexer": "ipython3",
   "version": "3.7.9"
  }
 },
 "nbformat": 4,
 "nbformat_minor": 4
}
