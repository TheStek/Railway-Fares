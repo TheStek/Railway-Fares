{
 "cells": [
  {
   "cell_type": "code",
   "execution_count": 1,
   "metadata": {},
   "outputs": [],
   "source": [
    "import numpy as np\n",
    "import pandas as pd"
   ]
  },
  {
   "cell_type": "code",
   "execution_count": 2,
   "metadata": {},
   "outputs": [],
   "source": [
    "data_path = \"C:\\\\Users\\\\User\\\\Documents\\\\4. Fourth Year\\\\Project\\\\Railway-Fares\\\\Data\\\\Cleansed Data\\\\\"\n",
    "\n",
    "stations = pd.read_csv(data_path + \"station.csv\", dtype = str).astype({\"lat\": \"float64\", \"lon\": \"float64\"})\n",
    "stations = stations[[\"NLC\", \"lat\", \"lon\"]]"
   ]
  },
  {
   "cell_type": "code",
   "execution_count": 3,
   "metadata": {},
   "outputs": [],
   "source": [
    "def haversine_np(lon1, lat1, lon2, lat2):\n",
    "    \"\"\"\n",
    "    Calculate the great circle distance between two points\n",
    "    on the earth (specified in decimal degrees)\n",
    "\n",
    "    All args must be of equal length.    \n",
    "\n",
    "    \"\"\"\n",
    "    lon1, lat1, lon2, lat2 = map(np.radians, [lon1, lat1, lon2, lat2])\n",
    "\n",
    "    dlon = lon2 - lon1\n",
    "    dlat = lat2 - lat1\n",
    "\n",
    "    a = np.sin(dlat/2.0)**2 + np.cos(lat1) * np.cos(lat2) * np.sin(dlon/2.0)**2\n",
    "\n",
    "    c = 2 * np.arcsin(np.sqrt(a))\n",
    "    km = 6367 * c\n",
    "    return km"
   ]
  },
  {
   "cell_type": "code",
   "execution_count": 4,
   "metadata": {},
   "outputs": [
    {
     "name": "stdout",
     "output_type": "stream",
     "text": [
      "Index(['Origin', 'lat1', 'lon1', 'Destination', 'lat2', 'lon2'], dtype='object') 131769\n"
     ]
    }
   ],
   "source": [
    "df_origin = stations.rename(columns =  {\"lat\": \"lat1\", \"lon\": \"lon1\", \"NLC\" : \"Origin\"})\n",
    "df_dest = stations.rename(columns = {\"lat\": \"lat2\", \"lon\": \"lon2\", \"NLC\" : \"Destination\"})\n",
    "\n",
    "df_cross = df_origin.merge(df_dest, how = \"cross\")\n",
    "\n",
    "print(df_cross.columns, len(df_cross))\n",
    "\n",
    "df_cross[\"Distance\"] = haversine_np(df_cross[\"lon1\"], df_cross[\"lat1\"], df_cross[\"lon2\"], df_cross[\"lat2\"])\n",
    "\n",
    "\n",
    "df_out = df_cross[df_cross[\"Origin\"] != df_cross[\"Destination\"]]"
   ]
  },
  {
   "cell_type": "code",
   "execution_count": 5,
   "metadata": {},
   "outputs": [],
   "source": [
    "df_out[[\"Origin\", \"Destination\", \"Distance\"]].to_csv(data_path + \"distances.csv\", index = False)"
   ]
  },
  {
   "cell_type": "code",
   "execution_count": 13,
   "metadata": {},
   "outputs": [],
   "source": [
    "ed_coords = [55.950558, -3.185556]\n",
    "glas_coords = [55.858700, -4.295905]\n",
    "\n",
    "dist_from_cities = stations.copy()\n",
    "dist_from_cities[\"Dist_from_Ed\"] = haversine_np(dist_from_cities[\"lon\"], dist_from_cities[\"lat\"], ed_coords[1], ed_coords[0])\n",
    "dist_from_cities[\"Dist_from_Gls\"] = haversine_np(dist_from_cities[\"lon\"], dist_from_cities[\"lat\"], glas_coords[1], glas_coords[0])"
   ]
  },
  {
   "cell_type": "code",
   "execution_count": 14,
   "metadata": {},
   "outputs": [],
   "source": [
    "dist_from_cities[[\"NLC\", \"Dist_from_Ed\", \"Dist_from_Gls\"]].to_csv(data_path + \"distances_cities.csv\", index = False)"
   ]
  },
  {
   "cell_type": "code",
   "execution_count": null,
   "metadata": {},
   "outputs": [],
   "source": []
  }
 ],
 "metadata": {
  "kernelspec": {
   "display_name": "Python 3",
   "language": "python",
   "name": "python3"
  },
  "language_info": {
   "codemirror_mode": {
    "name": "ipython",
    "version": 3
   },
   "file_extension": ".py",
   "mimetype": "text/x-python",
   "name": "python",
   "nbconvert_exporter": "python",
   "pygments_lexer": "ipython3",
   "version": "3.7.9"
  }
 },
 "nbformat": 4,
 "nbformat_minor": 4
}
