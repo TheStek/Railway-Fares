{
 "cells": [
  {
   "cell_type": "code",
   "execution_count": 1,
   "metadata": {},
   "outputs": [],
   "source": [
    "import numpy as np\n",
    "import pandas as pd\n",
    "import requests\n",
    "from bs4 import BeautifulSoup"
   ]
  },
  {
   "cell_type": "code",
   "execution_count": 2,
   "metadata": {},
   "outputs": [],
   "source": [
    "urls = [f\"http://www.railwaycodes.org.uk/crs/crs{letter}.shtm\" for letter in \"abcdefghijklmnopqrstuvwxyz\"]"
   ]
  },
  {
   "cell_type": "code",
   "execution_count": 103,
   "metadata": {},
   "outputs": [
    {
     "name": "stdout",
     "output_type": "stream",
     "text": [
      "http://www.railwaycodes.org.uk/crs/crsa.shtm scraped\n",
      "http://www.railwaycodes.org.uk/crs/crsb.shtm scraped\n",
      "http://www.railwaycodes.org.uk/crs/crsc.shtm scraped\n",
      "http://www.railwaycodes.org.uk/crs/crsd.shtm scraped\n",
      "http://www.railwaycodes.org.uk/crs/crse.shtm scraped\n",
      "http://www.railwaycodes.org.uk/crs/crsf.shtm scraped\n",
      "http://www.railwaycodes.org.uk/crs/crsg.shtm scraped\n",
      "http://www.railwaycodes.org.uk/crs/crsh.shtm scraped\n",
      "http://www.railwaycodes.org.uk/crs/crsi.shtm scraped\n",
      "http://www.railwaycodes.org.uk/crs/crsj.shtm scraped\n",
      "http://www.railwaycodes.org.uk/crs/crsk.shtm scraped\n",
      "http://www.railwaycodes.org.uk/crs/crsl.shtm scraped\n",
      "http://www.railwaycodes.org.uk/crs/crsm.shtm scraped\n",
      "http://www.railwaycodes.org.uk/crs/crsn.shtm scraped\n",
      "http://www.railwaycodes.org.uk/crs/crso.shtm scraped\n",
      "http://www.railwaycodes.org.uk/crs/crsp.shtm scraped\n",
      "http://www.railwaycodes.org.uk/crs/crsq.shtm scraped\n",
      "http://www.railwaycodes.org.uk/crs/crsr.shtm scraped\n",
      "http://www.railwaycodes.org.uk/crs/crss.shtm scraped\n",
      "http://www.railwaycodes.org.uk/crs/crst.shtm scraped\n",
      "http://www.railwaycodes.org.uk/crs/crsu.shtm scraped\n",
      "http://www.railwaycodes.org.uk/crs/crsv.shtm scraped\n",
      "http://www.railwaycodes.org.uk/crs/crsw.shtm scraped\n",
      "http://www.railwaycodes.org.uk/crs/crsx.shtm scraped\n",
      "http://www.railwaycodes.org.uk/crs/crsy.shtm scraped\n",
      "http://www.railwaycodes.org.uk/crs/crsz.shtm scraped\n"
     ]
    }
   ],
   "source": [
    "dfs = []\n",
    "\n",
    "for url in urls:\n",
    "    page = requests.get(url)\n",
    "    soup = BeautifulSoup(page.content, 'html.parser')\n",
    "    rows = filter(lambda x: len(x) == 6, [r.find_all(\"td\") for r in soup.find_all(\"tr\")[1:]])\n",
    "    rows_stripped = [[col.text for col in row] for row in rows]\n",
    "    try:\n",
    "        dfs.append(pd.DataFrame(rows_stripped, columns = [\"Location\", \"CRS\", \"NLC\", \"TIPLOC\", \"STANME\", \"STANOX\"]))\n",
    "        print(f\"{url} scraped\")\n",
    "    except Exception:\n",
    "        print(\"failure\")"
   ]
  },
  {
   "cell_type": "code",
   "execution_count": 104,
   "metadata": {},
   "outputs": [],
   "source": [
    "final_df = pd.concat(dfs)"
   ]
  },
  {
   "cell_type": "code",
   "execution_count": 110,
   "metadata": {},
   "outputs": [],
   "source": [
    "final_df[\"NLC Clipped\"] = final_df[\"NLC\"].apply(lambda x: x[:-2] if x[-2:] == '00' else \"\")"
   ]
  },
  {
   "cell_type": "code",
   "execution_count": 115,
   "metadata": {},
   "outputs": [],
   "source": [
    "final_df.to_csv(\"C:\\\\Users\\\\User\\\\Documents\\\\4. Fourth Year\\\\Project\\\\Railway-Fares\\\\Data\\\\nlc_codes.csv\", index = False)"
   ]
  },
  {
   "cell_type": "code",
   "execution_count": null,
   "metadata": {},
   "outputs": [],
   "source": []
  },
  {
   "cell_type": "code",
   "execution_count": null,
   "metadata": {},
   "outputs": [],
   "source": []
  },
  {
   "cell_type": "code",
   "execution_count": null,
   "metadata": {},
   "outputs": [],
   "source": []
  }
 ],
 "metadata": {
  "kernelspec": {
   "display_name": "Python 3",
   "language": "python",
   "name": "python3"
  },
  "language_info": {
   "codemirror_mode": {
    "name": "ipython",
    "version": 3
   },
   "file_extension": ".py",
   "mimetype": "text/x-python",
   "name": "python",
   "nbconvert_exporter": "python",
   "pygments_lexer": "ipython3",
   "version": "3.7.9"
  }
 },
 "nbformat": 4,
 "nbformat_minor": 4
}
