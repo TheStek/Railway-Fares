{
 "cells": [
  {
   "cell_type": "code",
   "execution_count": 104,
   "id": "d9fb1d05",
   "metadata": {},
   "outputs": [],
   "source": [
    "import numpy as np\n",
    "import pandas as pd\n",
    "import matplotlib.pyplot as plt\n",
    "from sklearn.gaussian_process import GaussianProcessRegressor\n",
    "from sklearn.gaussian_process.kernels import RBF\n",
    "from sklearn.preprocessing import StandardScaler"
   ]
  },
  {
   "cell_type": "code",
   "execution_count": 105,
   "id": "d31d9872",
   "metadata": {},
   "outputs": [],
   "source": [
    "class GPR_Ensemble:\n",
    "    def __init__(self, n = 50, kernel = RBF(), scaling = True):\n",
    "        \n",
    "        \"\"\"\n",
    "        n: number of Gaussian ProcessRegressor models\n",
    "        kernels: either an instantiated kernel or n instantiated kernels\n",
    "        \"\"\"\n",
    "        self.n = n\n",
    "        self.scaling = scaling\n",
    "        \n",
    "        if hasattr(kernel, '__iter__'):\n",
    "            assert len(kernel) == n, \"Invalid number of kernels\"\n",
    "            \n",
    "            self.models = [GaussianProcessRegressor(kernel = k, copy_X_train = False) for k in kernel]\n",
    "        else:\n",
    "            self.models = [GaussianProcessRegressor(kernel = kernel, copy_X_train = False) for k in range(n)]\n",
    "            \n",
    "        \n",
    "    \n",
    "    # Fits GPR models on different \n",
    "    def fit(self, X, y):\n",
    "        \n",
    "        if self.scaling:\n",
    "            self.scaler = StandardScaler().fit(X)\n",
    "            X = self.scaler.transform(X)\n",
    "        \n",
    "        X_split = np.array_split(X, self.n)\n",
    "        y_split = np.array_split(y, self.n)\n",
    "        \n",
    "        assert list(map(len, X_split)) == list(map(len, y_split)), \"Error while splitting data\"\n",
    "        \n",
    "        for i in range(self.n):\n",
    "            self.models[i].fit(X_split[i], y_split[i])\n",
    "            \n",
    "            \n",
    "    def predict(self, X):\n",
    "        \n",
    "        if self.scaling:\n",
    "            X = self.scaler.transform(X)\n",
    "        \n",
    "        preds = []\n",
    "        weights = []\n",
    "        \n",
    "        for model in self.models:\n",
    "            prediction, std = model.predict(X, return_std=True)\n",
    "            preds.append(prediction)\n",
    "            weights.append(1/(std + 1e-8))\n",
    "        \n",
    "        preds = np.array(preds)\n",
    "        weights = np.array(weights)\n",
    "        \n",
    "        return np.average(preds, axis = 0, weights = weights)\n",
    "        \n",
    "    def score(self, X, y):\n",
    "        y_pred = self.predict(X)\n",
    "        u = ((y - y_pred)** 2).sum()\n",
    "        v = ((y - y.mean()) ** 2).sum()\n",
    "        return 1 - u/v\n",
    "        \n",
    "    "
   ]
  },
  {
   "cell_type": "code",
   "execution_count": 106,
   "id": "9ec7e7bd",
   "metadata": {},
   "outputs": [],
   "source": [
    "from data_helper import *"
   ]
  },
  {
   "cell_type": "code",
   "execution_count": 107,
   "id": "eaf704da",
   "metadata": {},
   "outputs": [],
   "source": [
    "X_train = dataset_in[\"train\"][\"full\"]\n",
    "y_train = dataset_in[\"train\"][\"y\"]\n",
    "\n",
    "X_val = dataset_in[\"val\"][\"full\"]\n",
    "y_val = dataset_in[\"val\"][\"y\"]"
   ]
  },
  {
   "cell_type": "code",
   "execution_count": 108,
   "id": "1af00ee9",
   "metadata": {},
   "outputs": [
    {
     "name": "stderr",
     "output_type": "stream",
     "text": [
      "C:\\Users\\Stephen\\Anaconda3\\envs\\proj38\\lib\\site-packages\\sklearn\\gaussian_process\\kernels.py:420: ConvergenceWarning: The optimal value found for dimension 0 of parameter length_scale is close to the specified lower bound 1e-05. Decreasing the bound and calling fit again may find a better value.\n",
      "  warnings.warn(\n",
      "C:\\Users\\Stephen\\Anaconda3\\envs\\proj38\\lib\\site-packages\\sklearn\\gaussian_process\\_gpr.py:610: ConvergenceWarning: lbfgs failed to converge (status=2):\n",
      "ABNORMAL_TERMINATION_IN_LNSRCH.\n",
      "\n",
      "Increase the number of iterations (max_iter) or scale the data as shown in:\n",
      "    https://scikit-learn.org/stable/modules/preprocessing.html\n",
      "  _check_optimize_result(\"lbfgs\", opt_res)\n"
     ]
    },
    {
     "name": "stdout",
     "output_type": "stream",
     "text": [
      "True 0.8346568146453675\n",
      "False 0.7209556703898863\n"
     ]
    }
   ],
   "source": [
    "for scaling in (True, False):\n",
    "    model = GPR_Ensemble(scaling = scaling)\n",
    "    model.fit(X_train, y_train)\n",
    "    print(scaling, model.score(X_val, y_val))"
   ]
  },
  {
   "cell_type": "code",
   "execution_count": 84,
   "id": "c412a869",
   "metadata": {},
   "outputs": [
    {
     "name": "stderr",
     "output_type": "stream",
     "text": [
      "C:\\Users\\Stephen\\Anaconda3\\envs\\proj38\\lib\\site-packages\\sklearn\\gaussian_process\\_gpr.py:610: ConvergenceWarning: lbfgs failed to converge (status=2):\n",
      "ABNORMAL_TERMINATION_IN_LNSRCH.\n",
      "\n",
      "Increase the number of iterations (max_iter) or scale the data as shown in:\n",
      "    https://scikit-learn.org/stable/modules/preprocessing.html\n",
      "  _check_optimize_result(\"lbfgs\", opt_res)\n",
      "C:\\Users\\Stephen\\Anaconda3\\envs\\proj38\\lib\\site-packages\\sklearn\\gaussian_process\\_gpr.py:610: ConvergenceWarning: lbfgs failed to converge (status=2):\n",
      "ABNORMAL_TERMINATION_IN_LNSRCH.\n",
      "\n",
      "Increase the number of iterations (max_iter) or scale the data as shown in:\n",
      "    https://scikit-learn.org/stable/modules/preprocessing.html\n",
      "  _check_optimize_result(\"lbfgs\", opt_res)\n",
      "C:\\Users\\Stephen\\Anaconda3\\envs\\proj38\\lib\\site-packages\\sklearn\\gaussian_process\\_gpr.py:610: ConvergenceWarning: lbfgs failed to converge (status=2):\n",
      "ABNORMAL_TERMINATION_IN_LNSRCH.\n",
      "\n",
      "Increase the number of iterations (max_iter) or scale the data as shown in:\n",
      "    https://scikit-learn.org/stable/modules/preprocessing.html\n",
      "  _check_optimize_result(\"lbfgs\", opt_res)\n"
     ]
    }
   ],
   "source": [
    "ns = [5*i for i in range(5, 6)]\n",
    "val_scores = []\n",
    "for n in ns:\n",
    "    model = GPR_Ensemble(n)\n",
    "    model.fit(X_train, y_train)\n",
    "    val_scores.append(model.score(X_val, y_val))"
   ]
  },
  {
   "cell_type": "code",
   "execution_count": 85,
   "id": "62e082d7",
   "metadata": {},
   "outputs": [
    {
     "data": {
      "text/plain": [
       "[<matplotlib.lines.Line2D at 0x255a7f977c0>]"
      ]
     },
     "execution_count": 85,
     "metadata": {},
     "output_type": "execute_result"
    },
    {
     "data": {
      "image/png": "[encoded data removed]",
      "text/plain": [
       "<Figure size 432x288 with 1 Axes>"
      ]
     },
     "metadata": {
      "needs_background": "light"
     },
     "output_type": "display_data"
    }
   ],
   "source": [
    "plt.plot(ns, val_scores)"
   ]
  },
  {
   "cell_type": "code",
   "execution_count": 86,
   "id": "01eef7ab",
   "metadata": {},
   "outputs": [
    {
     "data": {
      "text/plain": [
       "[0.7779052318734283]"
      ]
     },
     "execution_count": 86,
     "metadata": {},
     "output_type": "execute_result"
    }
   ],
   "source": [
    "val_scores"
   ]
  },
  {
   "cell_type": "code",
   "execution_count": 80,
   "id": "38ebb013",
   "metadata": {},
   "outputs": [
    {
     "data": {
      "text/plain": [
       "array([0.99999999, 0.5       , 0.33333333])"
      ]
     },
     "execution_count": 80,
     "metadata": {},
     "output_type": "execute_result"
    }
   ],
   "source": [
    "1/(np.array([1, 2, 3]) + 1e-8)"
   ]
  },
  {
   "cell_type": "code",
   "execution_count": 99,
   "id": "55522354",
   "metadata": {},
   "outputs": [
    {
     "data": {
      "text/plain": [
       "array([-1.82094408e+00,  1.96537548e-02,  1.15266096e+01,  3.25407194e-01,\n",
       "        1.08098833e-01,  2.46947145e+00,  3.50884297e+00,  7.23755705e-02,\n",
       "        9.03141361e-02,  1.23923332e+00, -3.12383161e+00,  2.58356666e+00,\n",
       "        2.71604770e+00,  3.32631141e+00,  1.86180340e+01,  3.45908620e+00,\n",
       "        2.25392297e-02, -4.29177700e-02,  6.61556550e+00,  2.07598268e+01,\n",
       "        2.02773733e+00,  1.33231906e-01, -3.59881360e-02,  2.59611296e-02,\n",
       "        6.42801647e+00,  8.52125270e+01,  4.91104412e+00,  2.39064051e+00,\n",
       "       -1.25872736e-02,  9.56494791e+00,  2.70922334e+00, -5.30131905e-03,\n",
       "        1.03151998e+01,  6.97311694e+01,  2.94198447e+00,  7.19136822e+00,\n",
       "        1.48110565e+00,  4.29041554e+00,  3.63874346e-02,  4.30000000e+01,\n",
       "        3.94845666e+00, -1.38322375e+00,  8.84450785e-02,  3.13693143e+00,\n",
       "        2.07586245e+00,  1.00000000e+01,  7.42744751e-01,  3.12624486e-02,\n",
       "        9.95195607e-03])"
      ]
     },
     "execution_count": 99,
     "metadata": {},
     "output_type": "execute_result"
    }
   ],
   "source": [
    "scaler = StandardScaler().fit(X_train)\n",
    "np.array(X_train)[0]"
   ]
  },
  {
   "cell_type": "code",
   "execution_count": 96,
   "id": "bbb0e38d",
   "metadata": {},
   "outputs": [
    {
     "data": {
      "text/plain": [
       "array([[-0.31159226,  0.20596629, -0.14059157, ...,  0.47055338,\n",
       "        -0.12002511, -0.50260358],\n",
       "       [ 0.50192504,  0.37784699,  0.26394937, ...,  0.5169528 ,\n",
       "        -0.3998885 ,  1.27154741],\n",
       "       [ 0.70054892,  0.05271498, -0.55180123, ..., -0.23103935,\n",
       "        -0.20442035,  0.1783601 ],\n",
       "       ...,\n",
       "       [-0.30363762,  0.58577055, -0.14059157, ...,  0.21476437,\n",
       "         0.09356464, -0.50260358],\n",
       "       [ 0.48369111, -1.20348368, -0.39596156, ..., -0.50772606,\n",
       "         0.06909328, -0.56612148],\n",
       "       [ 0.26092702, -1.44029675,  0.86164504, ..., -0.52185404,\n",
       "        -0.1132731 , -0.27633296]])"
      ]
     },
     "execution_count": 96,
     "metadata": {},
     "output_type": "execute_result"
    }
   ],
   "source": [
    "scaler.transform(X_train)"
   ]
  },
  {
   "cell_type": "code",
   "execution_count": null,
   "id": "94398e03",
   "metadata": {},
   "outputs": [],
   "source": []
  }
 ],
 "metadata": {
  "kernelspec": {
   "display_name": "Python 3 (ipykernel)",
   "language": "python",
   "name": "python3"
  },
  "language_info": {
   "codemirror_mode": {
    "name": "ipython",
    "version": 3
   },
   "file_extension": ".py",
   "mimetype": "text/x-python",
   "name": "python",
   "nbconvert_exporter": "python",
   "pygments_lexer": "ipython3",
   "version": "3.8.12"
  }
 },
 "nbformat": 4,
 "nbformat_minor": 5
}
