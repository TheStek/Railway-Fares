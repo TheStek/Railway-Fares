{
 "cells": [
  {
   "cell_type": "code",
   "execution_count": 48,
   "metadata": {},
   "outputs": [],
   "source": [
    "import numpy as np\n",
    "import pandas as pd\n",
    "import matplotlib.pyplot as plt"
   ]
  },
  {
   "cell_type": "code",
   "execution_count": 2,
   "metadata": {},
   "outputs": [
    {
     "name": "stderr",
     "output_type": "stream",
     "text": [
      "C:\\Users\\User\\anaconda3\\envs\\py3iaml\\lib\\site-packages\\sklearn\\utils\\__init__.py:4: DeprecationWarning: Using or importing the ABCs from 'collections' instead of from 'collections.abc' is deprecated since Python 3.3,and in 3.9 it will stop working\n",
      "  from collections import Sequence\n"
     ]
    }
   ],
   "source": [
    "from data_helper import *"
   ]
  },
  {
   "cell_type": "code",
   "execution_count": 4,
   "metadata": {},
   "outputs": [],
   "source": [
    "from sklearn.gaussian_process import GaussianProcessRegressor"
   ]
  },
  {
   "cell_type": "code",
   "execution_count": 5,
   "metadata": {},
   "outputs": [],
   "source": [
    "from sklearn.gaussian_process.kernels import ConstantKernel, RBF, WhiteKernel, Matern, RationalQuadratic"
   ]
  },
  {
   "cell_type": "code",
   "execution_count": 9,
   "metadata": {},
   "outputs": [],
   "source": [
    "kernels = zip((ConstantKernel(), RBF(), WhiteKernel(), Matern(), \n",
    "               RationalQuadratic()), (\"constant\", \"rbf\", \"white\", \"matern\", \"rational_quadratic\"))\n"
   ]
  },
  {
   "cell_type": "code",
   "execution_count": 13,
   "metadata": {},
   "outputs": [],
   "source": [
    "for kernel, name in kernels:\n",
    "    check_on_dataset(GaussianProcessRegressor, f\"gp-{name}\", \"gp_default_kernels\", kernel = kernel, copy_X_train = False)"
   ]
  },
  {
   "cell_type": "code",
   "execution_count": 14,
   "metadata": {},
   "outputs": [],
   "source": []
  },
  {
   "cell_type": "code",
   "execution_count": 66,
   "metadata": {},
   "outputs": [
    {
     "data": {
      "application/vnd.jupyter.widget-view+json": {
       "model_id": "10ab04c1bb9f46cb9c0d3d77d40025e3",
       "version_major": 2,
       "version_minor": 0
      },
      "text/plain": [
       "IntProgress(value=0, max=78)"
      ]
     },
     "metadata": {},
     "output_type": "display_data"
    },
    {
     "name": "stderr",
     "output_type": "stream",
     "text": [
      "C:\\Users\\User\\anaconda3\\envs\\py3iaml\\lib\\site-packages\\sklearn\\gaussian_process\\gpr.py:457: UserWarning: fmin_l_bfgs_b terminated abnormally with the  state: {'grad': array([-5170330.52122916,   508720.27416576]), 'task': b'ABNORMAL_TERMINATION_IN_LNSRCH', 'funcalls': 38, 'nit': 1, 'warnflag': 2}\n",
      "  \" state: %s\" % convergence_dict)\n"
     ]
    },
    {
     "data": {
      "image/png": "[encoded data removed]",
      "text/plain": [
       "<Figure size 432x288 with 1 Axes>"
      ]
     },
     "metadata": {
      "needs_background": "light"
     },
     "output_type": "display_data"
    }
   ],
   "source": [
    "from ipywidgets import IntProgress\n",
    "from IPython.display import display\n",
    "\n",
    "X_train = dataset_in[\"train\"][\"full\"]\n",
    "y_train = dataset_in[\"train\"][\"y\"]\n",
    "\n",
    "n = len(X_train)\n",
    "batch_size = 500\n",
    "\n",
    "kernel = RationalQuadratic()\n",
    "train_scores = []\n",
    "val_scores = []\n",
    "f = IntProgress(min=0, max=int(n/batch_size)+1)\n",
    "display(f)\n",
    "for i in range(int(n/batch_size)+1):\n",
    "    test_gp = GaussianProcessRegressor(kernel = kernel, copy_X_train = False)\n",
    "    test_gp.fit(X_train[i*batch_size: min((i+1)*batch_size, n-1)], y_train[i*batch_size: min((i+1)*batch_size, n-1)])\n",
    "    train_scores.append(test_gp.score(dataset_in[\"train\"][\"full\"], dataset_in[\"train\"][\"y\"]))\n",
    "    val_scores.append(test_gp.score(dataset_in[\"val\"][\"full\"], dataset_in[\"val\"][\"y\"]))\n",
    "    kernel.set_params(**(test_gp.kernel_.get_params()))\n",
    "    f.value += 1\n",
    "\n",
    "plt.plot(range(len(train_scores)), train_scores, label = \"train\")\n",
    "plt.plot(range(len(val_scores)), val_scores, label = \"val\")\n",
    "plt.ylim(0, 1)\n",
    "plt.legend()\n",
    "plt.show()\n"
   ]
  },
  {
   "cell_type": "code",
   "execution_count": 65,
   "metadata": {},
   "outputs": [
    {
     "data": {
      "text/plain": [
       "{'length_scale': 60.14364524196706,\n",
       " 'length_scale_bounds': (1e-05, 100000.0),\n",
       " 'nu': 1.5}"
      ]
     },
     "execution_count": 65,
     "metadata": {},
     "output_type": "execute_result"
    }
   ],
   "source": [
    "test_gp.kernel_.get_params()"
   ]
  },
  {
   "cell_type": "code",
   "execution_count": 50,
   "metadata": {},
   "outputs": [
    {
     "data": {
      "text/plain": [
       "[<matplotlib.lines.Line2D at 0x1c8aa252648>]"
      ]
     },
     "execution_count": 50,
     "metadata": {},
     "output_type": "execute_result"
    },
    {
     "data": {
      "image/png": "[encoded data removed]",
      "text/plain": [
       "<Figure size 432x288 with 1 Axes>"
      ]
     },
     "metadata": {
      "needs_background": "light"
     },
     "output_type": "display_data"
    }
   ],
   "source": [
    "plt.plot(range(len(train_scores)), train_scores, label = \"train\")"
   ]
  },
  {
   "cell_type": "code",
   "execution_count": 52,
   "metadata": {},
   "outputs": [
    {
     "data": {
      "text/plain": [
       "[(0.8020572403770991, 0.7925419660415569),\n",
       " (0.7146492769217616, 0.7011272283971665),\n",
       " (0.864073153014584, 0.8607621289514933),\n",
       " (0.7975964974879055, 0.7931873085412737),\n",
       " (0.8359243259496473, 0.8382965754414019),\n",
       " (0.8154318019741279, 0.8194703258959523),\n",
       " (0.7762203156991291, 0.7766301674022548),\n",
       " (0.8265572043359589, 0.8272582307180181),\n",
       " (0.8262324769573735, 0.826147841243969),\n",
       " (0.8817313812120073, 0.8767329520590524),\n",
       " (0.8020634301866074, 0.7996673577903924),\n",
       " (0.8482479742954567, 0.8532685179205486),\n",
       " (0.7076558482738105, 0.7054805356456066),\n",
       " (0.7500407441935896, 0.7441819091088842),\n",
       " (0.7249047366005216, 0.7208371354026846),\n",
       " (0.8859912461949532, 0.8858225589623562),\n",
       " (0.8000732867768118, 0.7989944850826426),\n",
       " (0.8240974109236044, 0.8204322544112639),\n",
       " (0.8403900382930786, 0.8383500688407631),\n",
       " (0.8543069335944208, 0.8546027084303903),\n",
       " (0.8084139555654172, 0.8074516683881793),\n",
       " (0.7745852086285312, 0.7673186568958503),\n",
       " (0.8360453849792138, 0.8286886457721763),\n",
       " (0.7595068340447598, 0.7504374296067239),\n",
       " (0.7844051376410204, 0.7766880002601038),\n",
       " (0.8190824337318205, 0.8254678637118922),\n",
       " (0.7426953848317712, 0.748672010708024),\n",
       " (0.7645724777040241, 0.7582571601485666),\n",
       " (0.7255450416278941, 0.7241222284388005),\n",
       " (0.7632515352549882, 0.7596649736679558),\n",
       " (0.831253279013572, 0.8292096565592266),\n",
       " (0.7781787489747953, 0.7733148409694949),\n",
       " (0.8369418295414389, 0.8371933693917493),\n",
       " (0.803941091437175, 0.7966039302042867),\n",
       " (0.8006141847324559, 0.7987057680730762),\n",
       " (0.822346820962523, 0.8190622616743084),\n",
       " (0.871508288266569, 0.8694044483248681),\n",
       " (0.8808031479353591, 0.8832257810000251),\n",
       " (0.8698551345860049, 0.8721358546110389),\n",
       " (0.8531987287280034, 0.8522547742216199),\n",
       " (0.8347327364383802, 0.8357765799356971),\n",
       " (0.7755211781974299, 0.7683491578382997),\n",
       " (0.8180439835939353, 0.8211822299466471),\n",
       " (0.7812062332276085, 0.7714028008101356),\n",
       " (0.7307664801935874, 0.7279407904084023),\n",
       " (0.5708592334564182, 0.5701583764030587),\n",
       " (0.7806306213719734, 0.7789404943843367),\n",
       " (0.8478331718637372, 0.8446648771281411),\n",
       " (0.7724624537235962, 0.7648562157949379),\n",
       " (0.7869214100688884, 0.7805813839969374),\n",
       " (0.8487694116676662, 0.8484585494620093),\n",
       " (0.8454607342401967, 0.8464360631428658),\n",
       " (0.8393056849874863, 0.8413999818472598),\n",
       " (0.7641436943853355, 0.7691428079622596),\n",
       " (0.7573539865412479, 0.7531321263234346),\n",
       " (0.8327741089412497, 0.8282615236965616),\n",
       " (-1.0451077648508686, -1.0881767834290539),\n",
       " (0.865940479170447, 0.8682660373541923),\n",
       " (0.7821928741934128, 0.7887073324944502),\n",
       " (0.8621513149066331, 0.8594428350168383),\n",
       " (0.8667897296943952, 0.8620726038583709),\n",
       " (0.8364349914836382, 0.8321571610313698),\n",
       " (0.7880392032491562, 0.7852910560079949),\n",
       " (0.8193349736716933, 0.8097840166528592),\n",
       " (0.7803702481770792, 0.7765072990091361),\n",
       " (0.7544383469539743, 0.7513070942042835),\n",
       " (0.8596296360780982, 0.8588592738931562),\n",
       " (0.8286057816850432, 0.8238707504694106),\n",
       " (0.8466812663264806, 0.8424065636728291),\n",
       " (0.7437451703777387, 0.7413140402624868),\n",
       " (0.8278507832627326, 0.82392309836358),\n",
       " (0.8651419588927536, 0.8609679115332313),\n",
       " (0.8107947942888568, 0.8050480849070307),\n",
       " (0.7932404182842759, 0.7945078360049356),\n",
       " (0.7642886507805695, 0.7633445305411053),\n",
       " (0.7808390467033932, 0.771097596474781),\n",
       " (0.7819386125148642, 0.7788968978421744),\n",
       " (0.28527672452235275, 0.2900802018716885)]"
      ]
     },
     "execution_count": 52,
     "metadata": {},
     "output_type": "execute_result"
    }
   ],
   "source": [
    "list(zip(train_scores, val_scores))"
   ]
  },
  {
   "cell_type": "code",
   "execution_count": null,
   "metadata": {},
   "outputs": [],
   "source": []
  }
 ],
 "metadata": {
  "kernelspec": {
   "display_name": "Python 3",
   "language": "python",
   "name": "python3"
  },
  "language_info": {
   "codemirror_mode": {
    "name": "ipython",
    "version": 3
   },
   "file_extension": ".py",
   "mimetype": "text/x-python",
   "name": "python",
   "nbconvert_exporter": "python",
   "pygments_lexer": "ipython3",
   "version": "3.7.9"
  }
 },
 "nbformat": 4,
 "nbformat_minor": 4
}
