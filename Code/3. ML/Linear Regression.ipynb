{
 "cells": [
  {
   "cell_type": "code",
   "execution_count": 8,
   "metadata": {},
   "outputs": [],
   "source": [
    "import numpy as np\n",
    "import pandas as pd\n",
    "import matplotlib.pyplot as plt\n",
    "import seaborn as sns\n",
    "sns.set_theme()\n",
    "\n",
    "from data_helper import *\n",
    "\n",
    "import warnings\n",
    "warnings.filterwarnings(\"ignore\", category=DeprecationWarning)"
   ]
  },
  {
   "cell_type": "code",
   "execution_count": 9,
   "metadata": {},
   "outputs": [],
   "source": [
    "log_name = \"linear_regression\""
   ]
  },
  {
   "cell_type": "code",
   "execution_count": 10,
   "metadata": {},
   "outputs": [],
   "source": [
    "from sklearn.linear_model import LinearRegression"
   ]
  },
  {
   "cell_type": "code",
   "execution_count": null,
   "metadata": {},
   "outputs": [],
   "source": []
  },
  {
   "cell_type": "code",
   "execution_count": 4,
   "metadata": {},
   "outputs": [],
   "source": [
    "check_on_dataset(scaled_model, \"scaled_lin_reg\", log_name, final_model = LinearRegression)"
   ]
  },
  {
   "cell_type": "code",
   "execution_count": 5,
   "metadata": {},
   "outputs": [],
   "source": [
    "pca_values = {'dist': 1, 'dist_time': 2, 'dist_remoteness': 6, 'full': 8, 'simd': 11}\n",
    "for subset in pca_values.keys():\n",
    "    for i in range(50):\n",
    "        fit_and_evaluate_ML_model(PCA_model, \"pca_linreg\", dataset_in, subset, log_name, final_model = LinearRegression, n_components = pca_values[subset])"
   ]
  },
  {
   "cell_type": "markdown",
   "metadata": {},
   "source": [
    "We broadly see that normalization doesn't matter "
   ]
  },
  {
   "cell_type": "code",
   "execution_count": 11,
   "metadata": {},
   "outputs": [],
   "source": [
    "from sklearn.linear_model import Ridge"
   ]
  },
  {
   "cell_type": "code",
   "execution_count": 7,
   "metadata": {},
   "outputs": [],
   "source": [
    "alpha_vals = [10**i for i in range(-5, 5)]"
   ]
  },
  {
   "cell_type": "code",
   "execution_count": 8,
   "metadata": {},
   "outputs": [],
   "source": [
    "subset_scores = {}\n",
    "for subset in subsets:\n",
    "    subset_scores[subset] = []\n",
    "    for alpha in alpha_vals:\n",
    "        model = Ridge(alpha = alpha)\n",
    "        model.fit(dataset_in[\"train\"][subset], dataset_in[\"train\"][\"y\"])\n",
    "        subset_scores[subset].append((alpha, model.score(dataset_in[\"val\"][subset], dataset_in[\"val\"][\"y\"])))"
   ]
  },
  {
   "cell_type": "code",
   "execution_count": 9,
   "metadata": {},
   "outputs": [
    {
     "data": {
      "text/plain": [
       "{'simd': [(1e-05, 0.23577178660411158),\n",
       "  (0.0001, 0.23577171754691084),\n",
       "  (0.001, 0.23577102437252728),\n",
       "  (0.01, 0.2357638340632039),\n",
       "  (0.1, 0.2356676668776454),\n",
       "  (1, 0.23332769115127694),\n",
       "  (10, 0.21259627002054382),\n",
       "  (100, 0.1864517954787207),\n",
       "  (1000, 0.16515519742382556),\n",
       "  (10000, 0.14974461452989618)],\n",
       " 'dist': [(1e-05, 0.8874569338978111),\n",
       "  (0.0001, 0.8874569338978084),\n",
       "  (0.001, 0.8874569338977821),\n",
       "  (0.01, 0.8874569338975187),\n",
       "  (0.1, 0.8874569338948847),\n",
       "  (1, 0.8874569338685442),\n",
       "  (10, 0.8874569336051088),\n",
       "  (100, 0.8874569309677409),\n",
       "  (1000, 0.8874569042927385),\n",
       "  (10000, 0.8874566074220074)],\n",
       " 'dist_remoteness': [(1e-05, 0.9258939659897746),\n",
       "  (0.0001, 0.9258939659897447),\n",
       "  (0.001, 0.9258939659894464),\n",
       "  (0.01, 0.9258939659864629),\n",
       "  (0.1, 0.925893965956627),\n",
       "  (1, 0.9258939656581666),\n",
       "  (10, 0.9258939626633822),\n",
       "  (100, 0.925893931698079),\n",
       "  (1000, 0.9258935208633279),\n",
       "  (10000, 0.9258798357750527)],\n",
       " 'dist_time': [(1e-05, 0.9173305325776816),\n",
       "  (0.0001, 0.9173305325776522),\n",
       "  (0.001, 0.9173305325773584),\n",
       "  (0.01, 0.9173305325744197),\n",
       "  (0.1, 0.9173305325450318),\n",
       "  (1, 0.9173305322510694),\n",
       "  (10, 0.9173305293030829),\n",
       "  (100, 0.9173304989872753),\n",
       "  (1000, 0.9173301125966781),\n",
       "  (10000, 0.9173182756693574)],\n",
       " 'full': [(1e-05, 0.9294855949090812),\n",
       "  (0.0001, 0.9294855976904445),\n",
       "  (0.001, 0.9294856253927669),\n",
       "  (0.01, 0.9294858913694922),\n",
       "  (0.1, 0.9294875262646501),\n",
       "  (1, 0.9294502728517785),\n",
       "  (10, 0.9290885018831468),\n",
       "  (100, 0.9287081337409946),\n",
       "  (1000, 0.9282796203641979),\n",
       "  (10000, 0.9281553074959059)]}"
      ]
     },
     "execution_count": 9,
     "metadata": {},
     "output_type": "execute_result"
    }
   ],
   "source": [
    "subset_scores"
   ]
  },
  {
   "cell_type": "markdown",
   "metadata": {},
   "source": [
    "We checked regularisation weights - don't seem to matter much apart from simd where larger values perform worse"
   ]
  },
  {
   "cell_type": "code",
   "execution_count": null,
   "metadata": {},
   "outputs": [],
   "source": []
  },
  {
   "cell_type": "code",
   "execution_count": 10,
   "metadata": {},
   "outputs": [],
   "source": [
    "check_on_dataset(scaled_model, \"scaled_ridge_reg\", log_name, final_model = Ridge)"
   ]
  },
  {
   "cell_type": "code",
   "execution_count": 12,
   "metadata": {},
   "outputs": [],
   "source": [
    "from sklearn.preprocessing import PolynomialFeatures"
   ]
  },
  {
   "cell_type": "code",
   "execution_count": 13,
   "metadata": {},
   "outputs": [],
   "source": [
    "X_train = dataset_in[\"train\"][\"dist_time\"]\n",
    "y_train = dataset_in[\"train\"][\"y\"]\n",
    "\n",
    "X_val = dataset_in[\"val\"][\"dist_time\"]\n",
    "y_val = dataset_in[\"val\"][\"y\"]"
   ]
  },
  {
   "cell_type": "code",
   "execution_count": 14,
   "metadata": {},
   "outputs": [
    {
     "name": "stdout",
     "output_type": "stream",
     "text": [
      "4\n",
      "10\n",
      "20\n",
      "35\n",
      "56\n",
      "84\n",
      "120\n",
      "165\n",
      "220\n"
     ]
    },
    {
     "name": "stderr",
     "output_type": "stream",
     "text": [
      "C:\\Users\\User\\anaconda3\\envs\\py3iaml\\lib\\site-packages\\sklearn\\linear_model\\_ridge.py:157: LinAlgWarning: scipy.linalg.solve\n",
      "Ill-conditioned matrix detected. Result is not guaranteed to be accurate.\n",
      "Reciprocal condition number2.533314e-18\n",
      "  return linalg.solve(A, Xy, sym_pos=True, overwrite_a=True).T\n",
      "C:\\Users\\User\\anaconda3\\envs\\py3iaml\\lib\\site-packages\\sklearn\\linear_model\\_ridge.py:157: LinAlgWarning: scipy.linalg.solve\n",
      "Ill-conditioned matrix detected. Result is not guaranteed to be accurate.\n",
      "Reciprocal condition number4.276738e-23\n",
      "  return linalg.solve(A, Xy, sym_pos=True, overwrite_a=True).T\n",
      "C:\\Users\\User\\anaconda3\\envs\\py3iaml\\lib\\site-packages\\sklearn\\linear_model\\_ridge.py:157: LinAlgWarning: scipy.linalg.solve\n",
      "Ill-conditioned matrix detected. Result is not guaranteed to be accurate.\n",
      "Reciprocal condition number6.700673e-28\n",
      "  return linalg.solve(A, Xy, sym_pos=True, overwrite_a=True).T\n",
      "C:\\Users\\User\\anaconda3\\envs\\py3iaml\\lib\\site-packages\\sklearn\\linear_model\\_ridge.py:157: LinAlgWarning: scipy.linalg.solve\n",
      "Ill-conditioned matrix detected. Result is not guaranteed to be accurate.\n",
      "Reciprocal condition number9.861238e-33\n",
      "  return linalg.solve(A, Xy, sym_pos=True, overwrite_a=True).T\n",
      "C:\\Users\\User\\anaconda3\\envs\\py3iaml\\lib\\site-packages\\sklearn\\linear_model\\_ridge.py:157: LinAlgWarning: scipy.linalg.solve\n",
      "Ill-conditioned matrix detected. Result is not guaranteed to be accurate.\n",
      "Reciprocal condition number1.378449e-37\n",
      "  return linalg.solve(A, Xy, sym_pos=True, overwrite_a=True).T\n"
     ]
    }
   ],
   "source": [
    "linreg_train_scores = []\n",
    "linreg_val_scores = []\n",
    "\n",
    "ridge_train_scores = []\n",
    "ridge_val_scores = []\n",
    "K = 10\n",
    "\n",
    "\n",
    "for k in range(1, K):\n",
    "    model = Pipeline([(\"poly\", PolynomialFeatures(degree = k)), (\"linreg\", LinearRegression())])\n",
    "    model.fit(X_train, y_train)\n",
    "    linreg_train_scores.append(model.score(X_train, y_train))\n",
    "    linreg_val_scores.append(model.score(X_val, y_val))\n",
    "    print(model.named_steps[\"poly\"].n_output_features_)\n",
    "\n",
    "\n",
    "for k in range(1, K):\n",
    "    model = Pipeline([(\"poly\", PolynomialFeatures(degree = k)), (\"linreg_reg\", Ridge(alpha = 1))])\n",
    "    model.fit(X_train, y_train)\n",
    "    ridge_train_scores.append(model.score(X_train, y_train))\n",
    "    ridge_val_scores.append(model.score(X_val, y_val))\n",
    "\n"
   ]
  },
  {
   "cell_type": "code",
   "execution_count": 15,
   "metadata": {},
   "outputs": [
    {
     "data": {
      "image/png": "[encoded data removed]",
      "text/plain": [
       "<Figure size 720x360 with 2 Axes>"
      ]
     },
     "metadata": {},
     "output_type": "display_data"
    }
   ],
   "source": [
    "fig, ax = plt.subplots(1, 2, sharey = True)\n",
    "fig.set_size_inches(10, 5)\n",
    "\n",
    "ax[0].plot(range(1, K), linreg_train_scores, label = \"Train\")\n",
    "ax[0].plot(range(1, K), linreg_val_scores, label = \"Validation\")\n",
    "ax[0].legend()\n",
    "ax[0].title.set_text(\"Linear Regression\")\n",
    "ax[0].set_xlabel(\"Polynomial Degree\")\n",
    "ax[0].set_ylabel(\"Coefficient of Determination\")\n",
    "\n",
    "ax[1].plot(range(1, K), ridge_train_scores, label = \"Train\")\n",
    "ax[1].plot(range(1, K), ridge_val_scores, label = \"Validation\")\n",
    "ax[1].legend()\n",
    "ax[1].title.set_text(\"Ridge Regression\")\n",
    "ax[1].set_xlabel(\"Polynomial Degree\")\n",
    "ax[1].set_ylabel(\"Coefficient of Determination\")\n",
    "\n",
    "plt.savefig(r\"C:\\Users\\User\\Documents\\4. Fourth Year\\Project\\Write Up Artifacts\\ML\\poly_linreg.png\", dpi = 300)"
   ]
  },
  {
   "cell_type": "markdown",
   "metadata": {},
   "source": [
    "Best model: scaled linreg on full subset"
   ]
  },
  {
   "cell_type": "code",
   "execution_count": 15,
   "metadata": {},
   "outputs": [
    {
     "data": {
      "text/plain": [
       "Pipeline(steps=[('scale', StandardScaler()), ('ml_model', LinearRegression())])"
      ]
     },
     "execution_count": 15,
     "metadata": {},
     "output_type": "execute_result"
    }
   ],
   "source": [
    "best_model = scaled_model(final_model = LinearRegression)\n",
    "best_model.fit(dataset_in[\"train\"][\"full\"], dataset_in[\"train\"][\"y\"])"
   ]
  },
  {
   "cell_type": "code",
   "execution_count": 16,
   "metadata": {},
   "outputs": [
    {
     "data": {
      "text/plain": [
       "<BarContainer object of 49 artists>"
      ]
     },
     "execution_count": 16,
     "metadata": {},
     "output_type": "execute_result"
    },
    {
     "data": {
      "image/png": "[encoded data removed]",
      "text/plain": [
       "<Figure size 432x288 with 1 Axes>"
      ]
     },
     "metadata": {
      "needs_background": "light"
     },
     "output_type": "display_data"
    }
   ],
   "source": [
    "best_model_weights = best_model.named_steps[\"ml_model\"].coef_\n",
    "plt.bar(range(len(best_model_weights)), best_model_weights)"
   ]
  },
  {
   "cell_type": "code",
   "execution_count": null,
   "metadata": {},
   "outputs": [],
   "source": []
  },
  {
   "cell_type": "code",
   "execution_count": null,
   "metadata": {},
   "outputs": [],
   "source": []
  }
 ],
 "metadata": {
  "kernelspec": {
   "display_name": "Python 3",
   "language": "python",
   "name": "python3"
  },
  "language_info": {
   "codemirror_mode": {
    "name": "ipython",
    "version": 3
   },
   "file_extension": ".py",
   "mimetype": "text/x-python",
   "name": "python",
   "nbconvert_exporter": "python",
   "pygments_lexer": "ipython3",
   "version": "3.7.9"
  }
 },
 "nbformat": 4,
 "nbformat_minor": 4
}
