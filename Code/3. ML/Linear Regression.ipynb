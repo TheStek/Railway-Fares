{
 "cells": [
  {
   "cell_type": "code",
   "execution_count": 1,
   "metadata": {},
   "outputs": [
    {
     "name": "stderr",
     "output_type": "stream",
     "text": [
      "C:\\Users\\User\\anaconda3\\envs\\py3iaml\\lib\\site-packages\\sklearn\\utils\\__init__.py:4: DeprecationWarning: Using or importing the ABCs from 'collections' instead of from 'collections.abc' is deprecated since Python 3.3,and in 3.9 it will stop working\n",
      "  from collections import Sequence\n"
     ]
    }
   ],
   "source": [
    "import numpy as np\n",
    "import pandas as pd\n",
    "import matplotlib.pyplot as plt\n",
    "import seaborn as sns\n",
    "sns.set_theme()\n",
    "\n",
    "from data_helper import *\n",
    "\n",
    "import warnings\n",
    "warnings.filterwarnings(\"ignore\", category=DeprecationWarning)"
   ]
  },
  {
   "cell_type": "code",
   "execution_count": 2,
   "metadata": {},
   "outputs": [],
   "source": [
    "log_name = \"linear_regression\""
   ]
  },
  {
   "cell_type": "code",
   "execution_count": 3,
   "metadata": {},
   "outputs": [],
   "source": [
    "from sklearn.linear_model import LinearRegression"
   ]
  },
  {
   "cell_type": "code",
   "execution_count": 4,
   "metadata": {},
   "outputs": [],
   "source": [
    "for normalize in (True, False):\n",
    "    check_on_dataset(LinearRegression, \"lin_reg\", log_name, normalize = normalize)"
   ]
  },
  {
   "cell_type": "code",
   "execution_count": 5,
   "metadata": {},
   "outputs": [],
   "source": [
    "for normalize in (True, False):\n",
    "    check_on_dataset(scaled_model, \"scaled_lin_reg\", log_name, final_model = LinearRegression, normalize = normalize)"
   ]
  },
  {
   "cell_type": "code",
   "execution_count": 6,
   "metadata": {},
   "outputs": [],
   "source": [
    "pca_values = {'dist': 1, 'dist_time': 2, 'dist_remoteness': 6, 'full': 8, 'simd': 11}\n",
    "for subset in pca_values.keys():\n",
    "    fit_and_evaluate_ML_model(PCA_model, \"pca_linreg\", dataset_in, subset, log_name, final_model = LinearRegression, n_components = pca_values[subset])"
   ]
  },
  {
   "cell_type": "markdown",
   "metadata": {},
   "source": [
    "We broadly see that normalization doesn't matter "
   ]
  },
  {
   "cell_type": "code",
   "execution_count": 7,
   "metadata": {},
   "outputs": [],
   "source": [
    "from sklearn.linear_model import Ridge"
   ]
  },
  {
   "cell_type": "code",
   "execution_count": 8,
   "metadata": {},
   "outputs": [],
   "source": [
    "alpha_vals = [10**i for i in range(-5, 5)]"
   ]
  },
  {
   "cell_type": "code",
   "execution_count": 20,
   "metadata": {},
   "outputs": [],
   "source": [
    "subset_scores = {}\n",
    "for subset in subsets:\n",
    "    subset_scores[subset] = []\n",
    "    for alpha in alpha_vals:\n",
    "        model = Ridge(alpha = alpha)\n",
    "        model.fit(dataset_in[\"train\"][subset], dataset_in[\"train\"][\"y\"])\n",
    "        subset_scores[subset].append((alpha, model.score(dataset_in[\"val\"][subset], dataset_in[\"val\"][\"y\"])))"
   ]
  },
  {
   "cell_type": "code",
   "execution_count": 21,
   "metadata": {},
   "outputs": [
    {
     "data": {
      "text/plain": [
       "{'simd': [(1e-05, 0.2158254279353773),\n",
       "  (0.0001, 0.21582568632960997),\n",
       "  (0.001, 0.2158282663332555),\n",
       "  (0.01, 0.21585367470560268),\n",
       "  (0.1, 0.2160706956738502),\n",
       "  (1, 0.21594739766334936),\n",
       "  (10, 0.19909511085585463),\n",
       "  (100, 0.17210805455962552),\n",
       "  (1000, 0.14990763109257232),\n",
       "  (10000, 0.13329348164413324)],\n",
       " 'dist': [(1e-05, 0.8896614675571946),\n",
       "  (0.0001, 0.8896614675572081),\n",
       "  (0.001, 0.8896614675573433),\n",
       "  (0.01, 0.8896614675586956),\n",
       "  (0.1, 0.8896614675722184),\n",
       "  (1, 0.8896614677074457),\n",
       "  (10, 0.8896614690596889),\n",
       "  (100, 0.8896614825791138),\n",
       "  (1000, 0.889661617472614),\n",
       "  (10000, 0.8896629363443598)],\n",
       " 'dist_time': [(1e-05, 0.9155975362641238),\n",
       "  (0.0001, 0.9155975362640937),\n",
       "  (0.001, 0.9155975362637931),\n",
       "  (0.01, 0.9155975362607882),\n",
       "  (0.1, 0.9155975362307387),\n",
       "  (1, 0.9155975359301608),\n",
       "  (10, 0.9155975329160124),\n",
       "  (100, 0.9155975019379898),\n",
       "  (1000, 0.9155971088600683),\n",
       "  (10000, 0.9155851932562693)],\n",
       " 'dist_remoteness': [(1e-05, 0.9246232905943194),\n",
       "  (0.0001, 0.924623290594285),\n",
       "  (0.001, 0.9246232905939437),\n",
       "  (0.01, 0.9246232905905287),\n",
       "  (0.1, 0.9246232905563769),\n",
       "  (1, 0.9246232902147616),\n",
       "  (10, 0.9246232867886112),\n",
       "  (100, 0.9246232515280356),\n",
       "  (1000, 0.9246227995594792),\n",
       "  (10000, 0.9246088662006834)],\n",
       " 'full': [(1e-05, 0.9281319503602434),\n",
       "  (0.0001, 0.9281319590523428),\n",
       "  (0.001, 0.9281320458351927),\n",
       "  (0.01, 0.9281328999458547),\n",
       "  (0.1, 0.9281401606600639),\n",
       "  (1, 0.9281415491100229),\n",
       "  (10, 0.9278401196280703),\n",
       "  (100, 0.9274020087430785),\n",
       "  (1000, 0.9269066355545819),\n",
       "  (10000, 0.9267577624823382)]}"
      ]
     },
     "execution_count": 21,
     "metadata": {},
     "output_type": "execute_result"
    }
   ],
   "source": [
    "subset_scores"
   ]
  },
  {
   "cell_type": "markdown",
   "metadata": {},
   "source": [
    "We checked regularisation weights - don't seem to matter much apart from simd where larger values perform worse"
   ]
  },
  {
   "cell_type": "code",
   "execution_count": 11,
   "metadata": {},
   "outputs": [],
   "source": [
    "for normalize in (True, False):\n",
    "    check_on_dataset(Ridge, \"ridge_reg\", log_name, normalize = normalize)"
   ]
  },
  {
   "cell_type": "code",
   "execution_count": 12,
   "metadata": {},
   "outputs": [],
   "source": [
    "for normalize in (True, False):\n",
    "    check_on_dataset(scaled_model, \"scaled_ridge_reg\", log_name, final_model = Ridge, normalize = normalize)"
   ]
  },
  {
   "cell_type": "code",
   "execution_count": 13,
   "metadata": {},
   "outputs": [],
   "source": [
    "from sklearn.preprocessing import PolynomialFeatures"
   ]
  },
  {
   "cell_type": "code",
   "execution_count": 14,
   "metadata": {},
   "outputs": [],
   "source": [
    "X_train = dataset_in[\"train\"][\"dist_time\"]\n",
    "y_train = dataset_in[\"train\"][\"y\"]\n",
    "\n",
    "X_val = dataset_in[\"val\"][\"dist_time\"]\n",
    "y_val = dataset_in[\"val\"][\"y\"]"
   ]
  },
  {
   "cell_type": "code",
   "execution_count": 15,
   "metadata": {},
   "outputs": [
    {
     "data": {
      "text/plain": [
       "[(0, -0.00015077984419842316),\n",
       " (1, 0.915597536264127),\n",
       " (2, 0.9270191309486405),\n",
       " (3, 0.9337808615328771),\n",
       " (4, 0.9365440748326076),\n",
       " (5, 0.9383213413060131),\n",
       " (6, 0.939303598197363),\n",
       " (7, 0.9396236667935738),\n",
       " (8, 0.8424197791156377)]"
      ]
     },
     "execution_count": 15,
     "metadata": {},
     "output_type": "execute_result"
    }
   ],
   "source": [
    "polynomial_scores = []\n",
    "\n",
    "k = 0\n",
    "best_score = -10e6\n",
    "while k < 100:\n",
    "    model = Pipeline([(\"poly\", PolynomialFeatures(degree = k)), (\"linreg\", LinearRegression())])\n",
    "    model.fit(X_train, y_train)\n",
    "    score = model.score(X_val, y_val)\n",
    "    polynomial_scores.append((k, score))\n",
    "    k += 1\n",
    "    if score > best_score:\n",
    "        best_score = score\n",
    "    else:\n",
    "        break\n",
    "    \n",
    "polynomial_scores"
   ]
  },
  {
   "cell_type": "code",
   "execution_count": 16,
   "metadata": {},
   "outputs": [
    {
     "name": "stdout",
     "output_type": "stream",
     "text": [
      "4\n",
      "10\n",
      "20\n",
      "35\n",
      "56\n",
      "84\n",
      "120\n",
      "165\n",
      "220\n"
     ]
    },
    {
     "name": "stderr",
     "output_type": "stream",
     "text": [
      "C:\\Users\\User\\anaconda3\\envs\\py3iaml\\lib\\site-packages\\sklearn\\linear_model\\ridge.py:112: LinAlgWarning: scipy.linalg.solve\n",
      "Ill-conditioned matrix detected. Result is not guaranteed to be accurate.\n",
      "Reciprocal condition number2.499185e-18\n",
      "  overwrite_a=True).T\n",
      "C:\\Users\\User\\anaconda3\\envs\\py3iaml\\lib\\site-packages\\sklearn\\linear_model\\ridge.py:112: LinAlgWarning: scipy.linalg.solve\n",
      "Ill-conditioned matrix detected. Result is not guaranteed to be accurate.\n",
      "Reciprocal condition number4.270810e-23\n",
      "  overwrite_a=True).T\n",
      "C:\\Users\\User\\anaconda3\\envs\\py3iaml\\lib\\site-packages\\sklearn\\linear_model\\ridge.py:112: LinAlgWarning: scipy.linalg.solve\n",
      "Ill-conditioned matrix detected. Result is not guaranteed to be accurate.\n",
      "Reciprocal condition number6.797448e-28\n",
      "  overwrite_a=True).T\n",
      "C:\\Users\\User\\anaconda3\\envs\\py3iaml\\lib\\site-packages\\sklearn\\linear_model\\ridge.py:112: LinAlgWarning: scipy.linalg.solve\n",
      "Ill-conditioned matrix detected. Result is not guaranteed to be accurate.\n",
      "Reciprocal condition number1.018984e-32\n",
      "  overwrite_a=True).T\n",
      "C:\\Users\\User\\anaconda3\\envs\\py3iaml\\lib\\site-packages\\sklearn\\linear_model\\ridge.py:112: LinAlgWarning: scipy.linalg.solve\n",
      "Ill-conditioned matrix detected. Result is not guaranteed to be accurate.\n",
      "Reciprocal condition number1.454765e-37\n",
      "  overwrite_a=True).T\n"
     ]
    }
   ],
   "source": [
    "linreg_train_scores = []\n",
    "linreg_val_scores = []\n",
    "\n",
    "ridge_train_scores = []\n",
    "ridge_val_scores = []\n",
    "K = 10\n",
    "\n",
    "\n",
    "for k in range(1, K):\n",
    "    model = Pipeline([(\"poly\", PolynomialFeatures(degree = k)), (\"linreg\", LinearRegression())])\n",
    "    model.fit(X_train, y_train)\n",
    "    linreg_train_scores.append(model.score(X_train, y_train))\n",
    "    linreg_val_scores.append(model.score(X_val, y_val))\n",
    "    print(model.named_steps[\"poly\"].n_output_features_)\n",
    "\n",
    "\n",
    "for k in range(1, K):\n",
    "    model = Pipeline([(\"poly\", PolynomialFeatures(degree = k)), (\"linreg_reg\", Ridge(alpha = 1))])\n",
    "    model.fit(X_train, y_train)\n",
    "    ridge_train_scores.append(model.score(X_train, y_train))\n",
    "    ridge_val_scores.append(model.score(X_val, y_val))\n",
    "\n"
   ]
  },
  {
   "cell_type": "code",
   "execution_count": 17,
   "metadata": {},
   "outputs": [
    {
     "data": {
      "image/png": "[encoded data removed]",
      "text/plain": [
       "<Figure size 720x360 with 2 Axes>"
      ]
     },
     "metadata": {
      "needs_background": "light"
     },
     "output_type": "display_data"
    }
   ],
   "source": [
    "fig, ax = plt.subplots(1, 2)\n",
    "fig.set_size_inches(10, 5)\n",
    "\n",
    "ax[0].plot(range(1, K), linreg_train_scores, label = \"Train\")\n",
    "ax[0].plot(range(1, K), linreg_val_scores, label = \"Validation\")\n",
    "ax[0].legend()\n",
    "ax[0].title.set_text(\"Linear Regression\")\n",
    "ax[0].set_xlabel(\"Polynomial Degree\")\n",
    "ax[0].set_ylabel(\"Coefficient of Determination\")\n",
    "\n",
    "ax[1].plot(range(1, K), ridge_train_scores, label = \"Train\")\n",
    "ax[1].plot(range(1, K), ridge_val_scores, label = \"Validation\")\n",
    "ax[1].legend()\n",
    "ax[1].title.set_text(\"Ridge Regression\")\n",
    "ax[1].set_xlabel(\"Polynomial Degree\")\n",
    "ax[1].set_ylabel(\"Coefficient of Determination\")\n",
    "\n",
    "plt.savefig(r\"C:\\Users\\User\\Documents\\4. Fourth Year\\Project\\Write Up Artifacts\\ML\\poly_linreg.png\", dpi = 300)"
   ]
  },
  {
   "cell_type": "markdown",
   "metadata": {},
   "source": [
    "Best model: scaled linreg on full subset"
   ]
  },
  {
   "cell_type": "code",
   "execution_count": 18,
   "metadata": {},
   "outputs": [
    {
     "data": {
      "text/plain": [
       "Pipeline(memory=None,\n",
       "     steps=[('scale', StandardScaler(copy=True, with_mean=True, with_std=True)), ('ml_model', LinearRegression(copy_X=True, fit_intercept=True, n_jobs=1, normalize=False))])"
      ]
     },
     "execution_count": 18,
     "metadata": {},
     "output_type": "execute_result"
    }
   ],
   "source": [
    "best_model = scaled_model(final_model = LinearRegression)\n",
    "best_model.fit(dataset_in[\"train\"][\"full\"], dataset_in[\"train\"][\"y\"])"
   ]
  },
  {
   "cell_type": "code",
   "execution_count": 19,
   "metadata": {},
   "outputs": [
    {
     "data": {
      "text/plain": [
       "<BarContainer object of 49 artists>"
      ]
     },
     "execution_count": 19,
     "metadata": {},
     "output_type": "execute_result"
    },
    {
     "data": {
      "image/png": "[encoded data removed]",
      "text/plain": [
       "<Figure size 432x288 with 1 Axes>"
      ]
     },
     "metadata": {
      "needs_background": "light"
     },
     "output_type": "display_data"
    }
   ],
   "source": [
    "best_model_weights = best_model.named_steps[\"ml_model\"].coef_\n",
    "plt.bar(range(len(best_model_weights)), best_model_weights)"
   ]
  },
  {
   "cell_type": "code",
   "execution_count": null,
   "metadata": {},
   "outputs": [],
   "source": []
  },
  {
   "cell_type": "code",
   "execution_count": null,
   "metadata": {},
   "outputs": [],
   "source": []
  }
 ],
 "metadata": {
  "kernelspec": {
   "display_name": "Python 3",
   "language": "python",
   "name": "python3"
  },
  "language_info": {
   "codemirror_mode": {
    "name": "ipython",
    "version": 3
   },
   "file_extension": ".py",
   "mimetype": "text/x-python",
   "name": "python",
   "nbconvert_exporter": "python",
   "pygments_lexer": "ipython3",
   "version": "3.7.9"
  }
 },
 "nbformat": 4,
 "nbformat_minor": 4
}
