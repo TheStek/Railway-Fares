{
 "cells": [
  {
   "cell_type": "code",
   "execution_count": 1,
   "metadata": {},
   "outputs": [
    {
     "name": "stderr",
     "output_type": "stream",
     "text": [
      "C:\\Users\\User\\anaconda3\\envs\\py3iaml\\lib\\site-packages\\sklearn\\utils\\__init__.py:4: DeprecationWarning: Using or importing the ABCs from 'collections' instead of from 'collections.abc' is deprecated since Python 3.3,and in 3.9 it will stop working\n",
      "  from collections import Sequence\n"
     ]
    }
   ],
   "source": [
    "import numpy as np\n",
    "import pandas as pd\n",
    "import matplotlib.pyplot as plt\n",
    "import seaborn as sns\n",
    "\n",
    "from data_helper import *\n",
    "\n",
    "import warnings\n",
    "warnings.filterwarnings(\"ignore\", category=DeprecationWarning)"
   ]
  },
  {
   "cell_type": "code",
   "execution_count": 2,
   "metadata": {},
   "outputs": [],
   "source": [
    "log_name = \"linear_regression\""
   ]
  },
  {
   "cell_type": "code",
   "execution_count": 3,
   "metadata": {},
   "outputs": [],
   "source": [
    "from sklearn.linear_model import LinearRegression"
   ]
  },
  {
   "cell_type": "code",
   "execution_count": 4,
   "metadata": {},
   "outputs": [],
   "source": [
    "for normalize in (True, False):\n",
    "    check_on_dataset(LinearRegression, \"lin_reg\", log_name, normalize = normalize)"
   ]
  },
  {
   "cell_type": "code",
   "execution_count": 5,
   "metadata": {},
   "outputs": [],
   "source": [
    "for normalize in (True, False):\n",
    "    check_on_dataset(scaled_model, \"scaled_lin_reg\", log_name, final_model = LinearRegression, normalize = normalize)"
   ]
  },
  {
   "cell_type": "code",
   "execution_count": 6,
   "metadata": {},
   "outputs": [],
   "source": [
    "for n_features in range(1, 15):\n",
    "    for normalize in (True, False):\n",
    "        check_on_dataset(PCA_model, \"PCA_lin_reg\", log_name, final_model = LinearRegression, n_components = n_features, normalize = normalize)"
   ]
  },
  {
   "cell_type": "markdown",
   "metadata": {},
   "source": [
    "We broadly see that normalization doesn't matter "
   ]
  },
  {
   "cell_type": "code",
   "execution_count": 7,
   "metadata": {},
   "outputs": [],
   "source": [
    "from sklearn.linear_model import Ridge"
   ]
  },
  {
   "cell_type": "code",
   "execution_count": 8,
   "metadata": {},
   "outputs": [],
   "source": [
    "alpha_vals = [10**i for i in range(-5, 5)]"
   ]
  },
  {
   "cell_type": "code",
   "execution_count": 9,
   "metadata": {},
   "outputs": [],
   "source": [
    "subset_scores = {}\n",
    "for subset in subsets:\n",
    "    subset_scores[subset] = []\n",
    "    for alpha in alpha_vals:\n",
    "        model = Ridge(alpha = alpha)\n",
    "        model.fit(dataset_in[\"train\"][subset], dataset_in[\"train\"][\"y\"])\n",
    "        subset_scores[subset].append(model.score(dataset_in[\"val\"][subset], dataset_in[\"val\"][\"y\"]))"
   ]
  },
  {
   "cell_type": "code",
   "execution_count": 10,
   "metadata": {},
   "outputs": [
    {
     "data": {
      "text/plain": [
       "{'dist_remoteness': [0.923729559312155,\n",
       "  0.9237295593119776,\n",
       "  0.9237295593102023,\n",
       "  0.9237295592924487,\n",
       "  0.9237295591149128,\n",
       "  0.9237295573394587,\n",
       "  0.9237295395752546,\n",
       "  0.9237293609676526,\n",
       "  0.923727478878935,\n",
       "  0.9236995782947631],\n",
       " 'dist': [0.8849307460963965,\n",
       "  0.8849307460964035,\n",
       "  0.884930746096473,\n",
       "  0.8849307460971698,\n",
       "  0.8849307461041358,\n",
       "  0.8849307461737951,\n",
       "  0.8849307468703599,\n",
       "  0.8849307538330475,\n",
       "  0.8849308231640379,\n",
       "  0.8849314868966756],\n",
       " 'full': [0.9277916405301265,\n",
       "  0.9277916312360004,\n",
       "  0.9277915382406685,\n",
       "  0.9277906029380547,\n",
       "  0.927780769298703,\n",
       "  0.9276658205321129,\n",
       "  0.9271613076720463,\n",
       "  0.926686527654079,\n",
       "  0.9262004957504117,\n",
       "  0.9260474002236608],\n",
       " 'dist_time': [0.9149941635057891,\n",
       "  0.9149941635055837,\n",
       "  0.9149941635035307,\n",
       "  0.9149941634829996,\n",
       "  0.9149941632776873,\n",
       "  0.9149941612244852,\n",
       "  0.9149941406844677,\n",
       "  0.9149939344850462,\n",
       "  0.914991792919259,\n",
       "  0.9149627618145805],\n",
       " 'simd': [0.23559730953769198,\n",
       "  0.23559724345628097,\n",
       "  0.23559657976471005,\n",
       "  0.23558965694259607,\n",
       "  0.23549359033484454,\n",
       "  0.23300334891046837,\n",
       "  0.2104689515791549,\n",
       "  0.18139489590441815,\n",
       "  0.1585950569980239,\n",
       "  0.14499467132437627]}"
      ]
     },
     "execution_count": 10,
     "metadata": {},
     "output_type": "execute_result"
    }
   ],
   "source": [
    "subset_scores"
   ]
  },
  {
   "cell_type": "markdown",
   "metadata": {},
   "source": [
    "We checked regularisation weights - don't seem to matter much apart from simd where larger values perform worse"
   ]
  },
  {
   "cell_type": "code",
   "execution_count": 11,
   "metadata": {},
   "outputs": [],
   "source": [
    "from sklearn.preprocessing import PolynomialFeatures"
   ]
  },
  {
   "cell_type": "code",
   "execution_count": 12,
   "metadata": {},
   "outputs": [],
   "source": [
    "X_train = dataset_in[\"train\"][\"dist_time\"]\n",
    "y_train = dataset_in[\"train\"][\"y\"]\n",
    "\n",
    "X_val = dataset_in[\"val\"][\"dist_time\"]\n",
    "y_val = dataset_in[\"val\"][\"y\"]"
   ]
  },
  {
   "cell_type": "code",
   "execution_count": 13,
   "metadata": {},
   "outputs": [
    {
     "data": {
      "text/plain": [
       "[(0, -0.00034025037611162823),\n",
       " (1, 0.914994163505812),\n",
       " (2, 0.9273952561765438),\n",
       " (3, 0.9337394316274046),\n",
       " (4, 0.9365301813728356),\n",
       " (5, 0.9377635095480619),\n",
       " (6, 0.9387701286712479),\n",
       " (7, 0.9363071137485102)]"
      ]
     },
     "execution_count": 13,
     "metadata": {},
     "output_type": "execute_result"
    }
   ],
   "source": [
    "polynomial_scores = []\n",
    "\n",
    "k = 0\n",
    "best_score = -10e6\n",
    "while k < 100:\n",
    "    model = Pipeline([(\"poly\", PolynomialFeatures(degree = k)), (\"linreg\", LinearRegression())])\n",
    "    model.fit(X_train, y_train)\n",
    "    score = model.score(X_val, y_val)\n",
    "    polynomial_scores.append((k, score))\n",
    "    k += 1\n",
    "    if score > best_score:\n",
    "        best_score = score\n",
    "    else:\n",
    "        break\n",
    "    \n",
    "polynomial_scores"
   ]
  },
  {
   "cell_type": "code",
   "execution_count": 14,
   "metadata": {},
   "outputs": [
    {
     "data": {
      "image/png": "[encoded data removed]",
      "text/plain": [
       "<Figure size 432x288 with 1 Axes>"
      ]
     },
     "metadata": {
      "needs_background": "light"
     },
     "output_type": "display_data"
    }
   ],
   "source": [
    "train_scores = []\n",
    "val_scores = []\n",
    "K = 10\n",
    "\n",
    "\n",
    "for k in range(1, K):\n",
    "    model = Pipeline([(\"poly\", PolynomialFeatures(degree = k)), (\"linreg\", LinearRegression())])\n",
    "    model.fit(X_train, y_train)\n",
    "    train_scores.append(model.score(X_train, y_train))\n",
    "    val_scores.append(model.score(X_val, y_val))\n",
    "    \n",
    "    \n",
    "plt.plot(range(1, K), train_scores, label = \"Train\")\n",
    "plt.plot(range(1, K), val_scores, label = \"Validation\")\n",
    "plt.legend()\n",
    "plt.show()"
   ]
  },
  {
   "cell_type": "code",
   "execution_count": 15,
   "metadata": {},
   "outputs": [
    {
     "name": "stderr",
     "output_type": "stream",
     "text": [
      "C:\\Users\\User\\anaconda3\\envs\\py3iaml\\lib\\site-packages\\sklearn\\linear_model\\ridge.py:112: LinAlgWarning: scipy.linalg.solve\n",
      "Ill-conditioned matrix detected. Result is not guaranteed to be accurate.\n",
      "Reciprocal condition number2.539215e-18\n",
      "  overwrite_a=True).T\n",
      "C:\\Users\\User\\anaconda3\\envs\\py3iaml\\lib\\site-packages\\sklearn\\linear_model\\ridge.py:112: LinAlgWarning: scipy.linalg.solve\n",
      "Ill-conditioned matrix detected. Result is not guaranteed to be accurate.\n",
      "Reciprocal condition number4.325293e-23\n",
      "  overwrite_a=True).T\n",
      "C:\\Users\\User\\anaconda3\\envs\\py3iaml\\lib\\site-packages\\sklearn\\linear_model\\ridge.py:112: LinAlgWarning: scipy.linalg.solve\n",
      "Ill-conditioned matrix detected. Result is not guaranteed to be accurate.\n",
      "Reciprocal condition number6.843106e-28\n",
      "  overwrite_a=True).T\n",
      "C:\\Users\\User\\anaconda3\\envs\\py3iaml\\lib\\site-packages\\sklearn\\linear_model\\ridge.py:112: LinAlgWarning: scipy.linalg.solve\n",
      "Ill-conditioned matrix detected. Result is not guaranteed to be accurate.\n",
      "Reciprocal condition number1.017684e-32\n",
      "  overwrite_a=True).T\n",
      "C:\\Users\\User\\anaconda3\\envs\\py3iaml\\lib\\site-packages\\sklearn\\linear_model\\ridge.py:112: LinAlgWarning: scipy.linalg.solve\n",
      "Ill-conditioned matrix detected. Result is not guaranteed to be accurate.\n",
      "Reciprocal condition number1.438051e-37\n",
      "  overwrite_a=True).T\n"
     ]
    },
    {
     "data": {
      "image/png": "[encoded data removed]",
      "text/plain": [
       "<Figure size 432x288 with 1 Axes>"
      ]
     },
     "metadata": {
      "needs_background": "light"
     },
     "output_type": "display_data"
    }
   ],
   "source": [
    "train_scores = []\n",
    "val_scores = []\n",
    "K = 10\n",
    "\n",
    "\n",
    "for k in range(1, K):\n",
    "    model = Pipeline([(\"poly\", PolynomialFeatures(degree = k)), (\"linreg_reg\", Ridge(alpha = 1))])\n",
    "    model.fit(X_train, y_train)\n",
    "    train_scores.append(model.score(X_train, y_train))\n",
    "    val_scores.append(model.score(X_val, y_val))\n",
    "    \n",
    "    \n",
    "plt.plot(range(1, K), train_scores, label = \"Train\")\n",
    "plt.plot(range(1, K), val_scores, label = \"Validation\")\n",
    "plt.legend()\n",
    "plt.show()"
   ]
  },
  {
   "cell_type": "code",
   "execution_count": null,
   "metadata": {},
   "outputs": [],
   "source": []
  }
 ],
 "metadata": {
  "kernelspec": {
   "display_name": "Python 3",
   "language": "python",
   "name": "python3"
  },
  "language_info": {
   "codemirror_mode": {
    "name": "ipython",
    "version": 3
   },
   "file_extension": ".py",
   "mimetype": "text/x-python",
   "name": "python",
   "nbconvert_exporter": "python",
   "pygments_lexer": "ipython3",
   "version": "3.7.9"
  }
 },
 "nbformat": 4,
 "nbformat_minor": 4
}
