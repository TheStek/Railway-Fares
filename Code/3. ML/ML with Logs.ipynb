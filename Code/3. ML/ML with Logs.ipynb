{
 "cells": [
  {
   "cell_type": "code",
   "execution_count": 6,
   "metadata": {},
   "outputs": [],
   "source": [
    "import numpy as np\n",
    "import pandas as pd\n",
    "import matplotlib.pyplot as plt\n",
    "import sklearn\n",
    "\n",
    "import warnings\n",
    "warnings.filterwarnings(\"ignore\", category=DeprecationWarning)"
   ]
  },
  {
   "cell_type": "code",
   "execution_count": 7,
   "metadata": {},
   "outputs": [],
   "source": [
    "from data_helper import *"
   ]
  },
  {
   "cell_type": "code",
   "execution_count": 8,
   "metadata": {},
   "outputs": [],
   "source": [
    "from sklearn.linear_model import LinearRegression\n",
    "from sklearn.ensemble import RandomForestRegressor\n",
    "from sklearn.svm import SVR"
   ]
  },
  {
   "cell_type": "code",
   "execution_count": 4,
   "metadata": {},
   "outputs": [],
   "source": [
    "\n",
    "check_on_all_data(LinearRegression, \"linreg\", -1)\n",
    "\n",
    "check_on_all_data(RandomForestRegressor, \"rfr\", -1)"
   ]
  },
  {
   "cell_type": "code",
   "execution_count": 9,
   "metadata": {},
   "outputs": [],
   "source": [
    "from sklearn.feature_selection import RFE\n",
    "from sklearn.pipeline import Pipeline"
   ]
  },
  {
   "cell_type": "markdown",
   "metadata": {},
   "source": [
    "kernels = (\"linear\", \"poly\", \"rbf\", \"sigmoid\")\n",
    "for k in kernels:\n",
    "    check_on_dataset(SVR, \"svr\", -1, kernel = k, max_iter = 10000)"
   ]
  },
  {
   "cell_type": "markdown",
   "metadata": {},
   "source": [
    "def rfe_model(final_model = LinearRegression, n_features=5, *args, **kwargs):\n",
    "    model = final_model(*args, **kwargs)\n",
    "    rfe = RFE(estimator = model, n_features_to_select = n_features)\n",
    "    return Pipeline(steps = [('rfe', rfe), (\"ml_model\", model)])\n",
    "\n",
    "for n in range(1, 15):\n",
    "    check_on_dataset(rfe_model, \"rfe_random_forest\", -1, final_model = RandomForestRegressor, n_features = n)\n",
    "    "
   ]
  },
  {
   "cell_type": "code",
   "execution_count": 6,
   "metadata": {},
   "outputs": [
    {
     "name": "stdout",
     "output_type": "stream",
     "text": [
      "fitting 1 features\n",
      "fitting 2 features\n",
      "fitting 3 features\n",
      "fitting 4 features\n",
      "fitting 5 features\n",
      "fitting 6 features\n",
      "fitting 7 features\n",
      "fitting 8 features\n",
      "fitting 9 features\n",
      "fitting 10 features\n",
      "fitting 11 features\n",
      "fitting 12 features\n",
      "fitting 13 features\n",
      "fitting 14 features\n"
     ]
    }
   ],
   "source": [
    "attrs = []\n",
    "for n in range(1, 15):\n",
    "    print(f\"fitting {n} features\")\n",
    "    rfe = RFE(estimator = RandomForestRegressor(), n_features_to_select = n)\n",
    "    rfe.fit(dataset_in[\"train\"][\"full\"], dataset_in[\"train\"][\"y\"])\n",
    "    val_score = rfe.score(dataset_in[\"val\"][\"full\"], dataset_in[\"val\"][\"y\"])\n",
    "    features = list(map(lambda x: x[0], filter(lambda x: x[1], zip(dataset_in[\"train\"][\"full\"].columns, rfe.get_support()))))\n",
    "    output = {\"n\": n, \"features\": features, \"val_score\": val_score}\n",
    "    append_to_json(output, project_path + \"/Logs/rfe_rfr.json\")"
   ]
  },
  {
   "cell_type": "code",
   "execution_count": 7,
   "metadata": {},
   "outputs": [],
   "source": [
    "from sklearn.preprocessing import StandardScaler\n",
    "\n",
    "def scaled_RFR(*args, **kwargs):\n",
    "    return Pipeline([\n",
    "        (\"scale\", StandardScaler()),\n",
    "        (\"rfr\",RandomForestRegressor(*args, **kwargs))\n",
    "    ])\n",
    "\n",
    "check_on_dataset(scaled_RFR, \"rfr_scaled\", -1)\n",
    "    "
   ]
  },
  {
   "cell_type": "code",
   "execution_count": 10,
   "metadata": {},
   "outputs": [
    {
     "name": "stdout",
     "output_type": "stream",
     "text": [
      "Deleted final_model\n",
      "Deleted final_model\n",
      "Deleted final_model\n",
      "Deleted final_model\n",
      "Deleted final_model\n",
      "Deleted final_model\n",
      "Deleted final_model\n",
      "Deleted final_model\n",
      "Deleted final_model\n",
      "Deleted final_model\n",
      "Deleted final_model\n",
      "Deleted final_model\n",
      "Deleted final_model\n",
      "Deleted final_model\n"
     ]
    }
   ],
   "source": [
    "from sklearn.decomposition import PCA\n",
    "\n",
    "def PCA_model(final_model = LinearRegression, n_components=5, *args, **kwargs):\n",
    "    model = final_model(*args, **kwargs)\n",
    "    pca = PCA(n_components = n_components)\n",
    "    return Pipeline(steps = [('pca', pca), (\"ml_model\", model)])\n",
    "\n",
    "for n in range(1, 15):\n",
    "    fit_and_evaluate_ML_model(PCA_model, \"pca_random_forest\", dataset_in, log_name = -1, final_model = RandomForestRegressor, n_components = n)"
   ]
  },
  {
   "cell_type": "code",
   "execution_count": 11,
   "metadata": {},
   "outputs": [],
   "source": [
    "for n in range(1, 15):\n",
    "    check_on_dataset(PCA_model, \"pca_lin_reg\", -1, n_components = n)"
   ]
  },
  {
   "cell_type": "code",
   "execution_count": 12,
   "metadata": {},
   "outputs": [
    {
     "data": {
      "text/plain": [
       "Pipeline(memory=None,\n",
       "     steps=[('pca', PCA(copy=True, iterated_power='auto', n_components=5, random_state=None,\n",
       "  svd_solver='auto', tol=0.0, whiten=False)), ('ml_model', LinearRegression(copy_X=True, fit_intercept=True, n_jobs=1, normalize=False))])"
      ]
     },
     "execution_count": 12,
     "metadata": {},
     "output_type": "execute_result"
    }
   ],
   "source": [
    "model = PCA_model()\n",
    "model.fit(dataset_in[\"train\"][\"full\"], dataset_in[\"train\"][\"y\"])"
   ]
  },
  {
   "cell_type": "code",
   "execution_count": 13,
   "metadata": {},
   "outputs": [
    {
     "data": {
      "text/plain": [
       "0.8958601722625366"
      ]
     },
     "execution_count": 13,
     "metadata": {},
     "output_type": "execute_result"
    }
   ],
   "source": [
    "model.score(dataset_in[\"val\"][\"full\"], dataset_in[\"val\"][\"y\"])"
   ]
  },
  {
   "cell_type": "code",
   "execution_count": 19,
   "metadata": {},
   "outputs": [
    {
     "data": {
      "text/plain": [
       "\"<class 'abc.ABCMeta'>\""
      ]
     },
     "execution_count": 19,
     "metadata": {},
     "output_type": "execute_result"
    }
   ],
   "source": [
    "str(type(RandomForestRegressor))"
   ]
  },
  {
   "cell_type": "code",
   "execution_count": null,
   "metadata": {},
   "outputs": [],
   "source": []
  }
 ],
 "metadata": {
  "kernelspec": {
   "display_name": "Python 3",
   "language": "python",
   "name": "python3"
  },
  "language_info": {
   "codemirror_mode": {
    "name": "ipython",
    "version": 3
   },
   "file_extension": ".py",
   "mimetype": "text/x-python",
   "name": "python",
   "nbconvert_exporter": "python",
   "pygments_lexer": "ipython3",
   "version": "3.7.9"
  }
 },
 "nbformat": 4,
 "nbformat_minor": 4
}
