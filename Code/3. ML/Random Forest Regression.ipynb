{
 "cells": [
  {
   "cell_type": "code",
   "execution_count": 1,
   "metadata": {},
   "outputs": [],
   "source": [
    "import numpy as np\n",
    "import pandas as pd\n",
    "import matplotlib.pyplot as plt\n",
    "import seaborn as sns\n",
    "\n",
    "sns.set_theme()\n",
    "\n",
    "from data_helper import *"
   ]
  },
  {
   "cell_type": "code",
   "execution_count": 2,
   "metadata": {},
   "outputs": [],
   "source": [
    "log_name = \"random_forest_regression\""
   ]
  },
  {
   "cell_type": "code",
   "execution_count": 3,
   "metadata": {},
   "outputs": [],
   "source": [
    "from sklearn.ensemble import RandomForestRegressor"
   ]
  },
  {
   "cell_type": "code",
   "execution_count": 4,
   "metadata": {},
   "outputs": [],
   "source": [
    "import time\n",
    "\n",
    "ks = (5, 50, 100, 250, 500)\n",
    "vals = []\n",
    "times = []"
   ]
  },
  {
   "cell_type": "code",
   "execution_count": null,
   "metadata": {},
   "outputs": [],
   "source": [
    "for k in ks:\n",
    "    print(k)\n",
    "    model = RandomForestRegressor(n_estimators = k)\n",
    "    start = time.time()\n",
    "    model.fit(dataset_in[\"train\"][\"full\"], dataset_in[\"train\"]['y'])\n",
    "    times.append(time.time() - start)\n",
    "    vals.append(model.score(dataset_in[\"val\"][\"full\"], dataset_in[\"val\"]['y']))"
   ]
  },
  {
   "cell_type": "code",
   "execution_count": null,
   "metadata": {},
   "outputs": [],
   "source": [
    "data = pd.DataFrame(zip(ks, times, vals), columns = (\"k\", \"Training Time\", \"Validation Score\"))\n",
    "ax = data.plot(x = \"k\", y = [\"Validation Score\", \"Training Time\"], secondary_y = \"Training Time\", mark_right = False, ylabel = \"Coefficient of Determination\")\n",
    "ax.right_ax.set_ylabel(\"Seconds\")\n",
    "ax.grid(False)\n",
    "ax.right_ax.grid(False)\n",
    "plt.savefig(r\"C:\\Users\\User\\Documents\\4. Fourth Year\\Project\\Write Up Artifacts\\ML\\RFR_kvalues.png\", dpi = 300)"
   ]
  },
  {
   "cell_type": "code",
   "execution_count": null,
   "metadata": {},
   "outputs": [],
   "source": [
    "samples = [0.1* i for i in range(1, 11)]\n",
    "vals = []\n",
    "times = []\n",
    "\n",
    "for sample in samples:\n",
    "    print(sample)\n",
    "    model = RandomForestRegressor(n_estimators = 100, max_samples = sample)\n",
    "    start = time.time()\n",
    "    model.fit(dataset_in[\"train\"][\"full\"], dataset_in[\"train\"]['y'])\n",
    "    times.append(time.time() - start)\n",
    "    vals.append(model.score(dataset_in[\"val\"][\"full\"], dataset_in[\"val\"]['y']))"
   ]
  },
  {
   "cell_type": "code",
   "execution_count": null,
   "metadata": {},
   "outputs": [],
   "source": [
    "data = pd.DataFrame(zip(samples, times, vals), columns = (\"Sample Size\", \"Training Time\", \"Validation Score\"))\n",
    "ax = data.plot(x = \"Sample Size\", y = [\"Validation Score\", \"Training Time\"], secondary_y = \"Training Time\", mark_right = False, ylabel = \"Coefficient of Determination\")\n",
    "ax.right_ax.set_ylabel(\"Seconds\")\n",
    "ax.set_xlabel(r\"$\\lambda$\")\n",
    "ax.grid(False)\n",
    "ax.right_ax.grid(False)\n",
    "plt.savefig(r\"C:\\Users\\User\\Documents\\4. Fourth Year\\Project\\Write Up Artifacts\\ML\\RFR_sample_sizes.png\", dpi = 300)"
   ]
  },
  {
   "cell_type": "code",
   "execution_count": null,
   "metadata": {},
   "outputs": [],
   "source": []
  },
  {
   "cell_type": "code",
   "execution_count": 5,
   "metadata": {},
   "outputs": [
    {
     "name": "stdout",
     "output_type": "stream",
     "text": [
      "Subset: simd, 10/10\n",
      "Subset: dist_remoteness, 10/10\n",
      "Subset: full, 10/10\n",
      "Subset: dist_time, 10/10\n",
      "Subset: dist, 10/10\n"
     ]
    }
   ],
   "source": [
    "check_on_dataset(scaled_model, \"rfr_scaled\", log_name, final_model = RandomForestRegressor, max_samples = 0.7, iterations = 10)"
   ]
  },
  {
   "cell_type": "code",
   "execution_count": 6,
   "metadata": {},
   "outputs": [],
   "source": [
    "pca_values = {'dist': 1, 'dist_time': 2, 'dist_remoteness': 6, 'full': 8, 'simd': 11}\n",
    "for subset in pca_values.keys():\n",
    "    for i in range(10):\n",
    "        fit_and_evaluate_ML_model(PCA_model, \"pca_rfr\", dataset_in, subset, log_name, final_model = RandomForestRegressor, n_components = pca_values[subset], max_samples = 0.7, iterate=True)"
   ]
  },
  {
   "cell_type": "code",
   "execution_count": null,
   "metadata": {},
   "outputs": [],
   "source": []
  }
 ],
 "metadata": {
  "kernelspec": {
   "display_name": "Python 3",
   "language": "python",
   "name": "python3"
  },
  "language_info": {
   "codemirror_mode": {
    "name": "ipython",
    "version": 3
   },
   "file_extension": ".py",
   "mimetype": "text/x-python",
   "name": "python",
   "nbconvert_exporter": "python",
   "pygments_lexer": "ipython3",
   "version": "3.7.9"
  }
 },
 "nbformat": 4,
 "nbformat_minor": 4
}
