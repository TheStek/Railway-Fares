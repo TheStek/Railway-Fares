{
 "cells": [
  {
   "cell_type": "code",
   "execution_count": 2,
   "metadata": {},
   "outputs": [],
   "source": [
    "import numpy as np\n",
    "import pandas as pd\n",
    "import matplotlib.pyplot as plt\n",
    "import seaborn as sns\n",
    "\n",
    "sns.set_theme()"
   ]
  },
  {
   "cell_type": "code",
   "execution_count": 3,
   "metadata": {},
   "outputs": [],
   "source": [
    "from data_helper import *\n",
    "log_name = \"svr\""
   ]
  },
  {
   "cell_type": "code",
   "execution_count": 4,
   "metadata": {},
   "outputs": [],
   "source": [
    "from sklearn.svm import SVR"
   ]
  },
  {
   "cell_type": "markdown",
   "metadata": {},
   "source": [
    "Will test on linear and rbf kernels. Think epsilon should be 1 minmum - ie to the nearest penny. We can change this to 10p possibly if it yields better results (probably in terms of training times)"
   ]
  },
  {
   "cell_type": "code",
   "execution_count": 5,
   "metadata": {},
   "outputs": [],
   "source": [
    "from sklearn.preprocessing import StandardScaler"
   ]
  },
  {
   "cell_type": "code",
   "execution_count": 5,
   "metadata": {},
   "outputs": [],
   "source": [
    "scaler = StandardScaler().fit(dataset_in[\"train\"][\"full\"])\n",
    "\n",
    "X_train = scaler.transform(dataset_in[\"train\"][\"full\"])\n",
    "y_train = dataset_in[\"train\"]['y']\n",
    "\n",
    "X_val = scaler.transform(dataset_in[\"val\"][\"full\"])\n",
    "y_val = dataset_in[\"val\"]['y']"
   ]
  },
  {
   "cell_type": "code",
   "execution_count": 39,
   "metadata": {},
   "outputs": [],
   "source": [
    "cs = [10**i for i in range(-2, 5)]"
   ]
  },
  {
   "cell_type": "code",
   "execution_count": 40,
   "metadata": {},
   "outputs": [
    {
     "name": "stdout",
     "output_type": "stream",
     "text": [
      "0.01\n",
      "0.1\n",
      "1\n"
     ]
    },
    {
     "name": "stderr",
     "output_type": "stream",
     "text": [
      "C:\\Users\\User\\anaconda3\\envs\\py3iaml\\lib\\site-packages\\sklearn\\svm\\_base.py:289: ConvergenceWarning: Solver terminated early (max_iter=100000).  Consider pre-processing your data with StandardScaler or MinMaxScaler.\n",
      "  ConvergenceWarning,\n"
     ]
    },
    {
     "name": "stdout",
     "output_type": "stream",
     "text": [
      "10\n"
     ]
    },
    {
     "name": "stderr",
     "output_type": "stream",
     "text": [
      "C:\\Users\\User\\anaconda3\\envs\\py3iaml\\lib\\site-packages\\sklearn\\svm\\_base.py:289: ConvergenceWarning: Solver terminated early (max_iter=100000).  Consider pre-processing your data with StandardScaler or MinMaxScaler.\n",
      "  ConvergenceWarning,\n"
     ]
    },
    {
     "name": "stdout",
     "output_type": "stream",
     "text": [
      "100\n"
     ]
    },
    {
     "name": "stderr",
     "output_type": "stream",
     "text": [
      "C:\\Users\\User\\anaconda3\\envs\\py3iaml\\lib\\site-packages\\sklearn\\svm\\_base.py:289: ConvergenceWarning: Solver terminated early (max_iter=100000).  Consider pre-processing your data with StandardScaler or MinMaxScaler.\n",
      "  ConvergenceWarning,\n"
     ]
    },
    {
     "name": "stdout",
     "output_type": "stream",
     "text": [
      "1000\n"
     ]
    },
    {
     "name": "stderr",
     "output_type": "stream",
     "text": [
      "C:\\Users\\User\\anaconda3\\envs\\py3iaml\\lib\\site-packages\\sklearn\\svm\\_base.py:289: ConvergenceWarning: Solver terminated early (max_iter=100000).  Consider pre-processing your data with StandardScaler or MinMaxScaler.\n",
      "  ConvergenceWarning,\n"
     ]
    },
    {
     "name": "stdout",
     "output_type": "stream",
     "text": [
      "10000\n"
     ]
    },
    {
     "name": "stderr",
     "output_type": "stream",
     "text": [
      "C:\\Users\\User\\anaconda3\\envs\\py3iaml\\lib\\site-packages\\sklearn\\svm\\_base.py:289: ConvergenceWarning: Solver terminated early (max_iter=100000).  Consider pre-processing your data with StandardScaler or MinMaxScaler.\n",
      "  ConvergenceWarning,\n"
     ]
    }
   ],
   "source": [
    "lin_train_scores = []\n",
    "lin_val_scores = []\n",
    "\n",
    "for c in cs:\n",
    "    print(c)\n",
    "    model = SVR(kernel = 'linear', C = c, epsilon = 1, max_iter = 1e5)\n",
    "    model.fit(X_train, y_train)\n",
    "    lin_train_scores.append(model.score(X_train, y_train))\n",
    "    lin_val_scores.append(model.score(X_val, y_val))"
   ]
  },
  {
   "cell_type": "code",
   "execution_count": 41,
   "metadata": {},
   "outputs": [
    {
     "name": "stdout",
     "output_type": "stream",
     "text": [
      "0.01\n",
      "0.1\n",
      "1\n",
      "10\n",
      "100\n"
     ]
    },
    {
     "name": "stderr",
     "output_type": "stream",
     "text": [
      "C:\\Users\\User\\anaconda3\\envs\\py3iaml\\lib\\site-packages\\sklearn\\svm\\_base.py:289: ConvergenceWarning: Solver terminated early (max_iter=100000).  Consider pre-processing your data with StandardScaler or MinMaxScaler.\n",
      "  ConvergenceWarning,\n"
     ]
    },
    {
     "name": "stdout",
     "output_type": "stream",
     "text": [
      "1000\n"
     ]
    },
    {
     "name": "stderr",
     "output_type": "stream",
     "text": [
      "C:\\Users\\User\\anaconda3\\envs\\py3iaml\\lib\\site-packages\\sklearn\\svm\\_base.py:289: ConvergenceWarning: Solver terminated early (max_iter=100000).  Consider pre-processing your data with StandardScaler or MinMaxScaler.\n",
      "  ConvergenceWarning,\n"
     ]
    },
    {
     "name": "stdout",
     "output_type": "stream",
     "text": [
      "10000\n"
     ]
    },
    {
     "name": "stderr",
     "output_type": "stream",
     "text": [
      "C:\\Users\\User\\anaconda3\\envs\\py3iaml\\lib\\site-packages\\sklearn\\svm\\_base.py:289: ConvergenceWarning: Solver terminated early (max_iter=100000).  Consider pre-processing your data with StandardScaler or MinMaxScaler.\n",
      "  ConvergenceWarning,\n"
     ]
    }
   ],
   "source": [
    "rbf_train_scores = []\n",
    "rbf_val_scores = []\n",
    "\n",
    "for c in cs:\n",
    "    print(c)\n",
    "    model = SVR(kernel = 'rbf', C = c, epsilon = 1, max_iter = 1e5)\n",
    "    model.fit(X_train, y_train)\n",
    "    rbf_train_scores.append(model.score(X_train, y_train))\n",
    "    rbf_val_scores.append(model.score(X_val, y_val))"
   ]
  },
  {
   "cell_type": "code",
   "execution_count": 42,
   "metadata": {},
   "outputs": [
    {
     "data": {
      "image/png": "[encoded data removed]",
      "text/plain": [
       "<Figure size 432x288 with 2 Axes>"
      ]
     },
     "metadata": {},
     "output_type": "display_data"
    }
   ],
   "source": [
    "fig, (ax1, ax2) = plt.subplots(ncols = 2, sharey = True)\n",
    "ax1.plot(cs, lin_train_scores, label = \"Train Score\")\n",
    "ax1.plot(cs, lin_val_scores, label = \"Validation Score\")\n",
    "ax1.legend()\n",
    "ax1.set_xlabel(\"C\")\n",
    "ax1.set_ylabel(\"Coefficient of Determination\")\n",
    "ax1.set_title(\"Linear Kernel\")\n",
    "ax1.set_xscale('log')\n",
    "\n",
    "ax2.plot(cs, rbf_train_scores, label = \"Train Score\")\n",
    "ax2.plot(cs, rbf_val_scores, label = \"Validation Score\")\n",
    "ax2.legend()\n",
    "ax2.set_xlabel(\"C\")\n",
    "ax2.set_ylabel(\"Coefficient of Determination\")\n",
    "ax2.set_title(\"RBF Kernel\")\n",
    "ax2.set_xscale('log')\n",
    "\n",
    "plt.savefig(r\"C:\\Users\\User\\Documents\\4. Fourth Year\\Project\\Write Up Artifacts\\ML\\SVR C Values.png\", dpi = 300)"
   ]
  },
  {
   "cell_type": "code",
   "execution_count": 44,
   "metadata": {},
   "outputs": [
    {
     "data": {
      "image/png": "[encoded data removed]",
      "text/plain": [
       "<Figure size 432x288 with 1 Axes>"
      ]
     },
     "metadata": {},
     "output_type": "display_data"
    }
   ],
   "source": [
    "plt.plot(cs, lin_val_scores, label = \"Linear Kernel\")\n",
    "plt.plot(cs, rbf_val_scores, label = \"RBF Kernel\")\n",
    "plt.xscale(\"log\")\n",
    "plt.legend()\n",
    "plt.xlabel(\"C\")\n",
    "plt.ylabel(\"Coefficient of Determination\")\n",
    "\n",
    "plt.savefig(r\"C:\\Users\\User\\Documents\\4. Fourth Year\\Project\\Write Up Artifacts\\ML\\SVR C Val Scores.png\", dpi = 300)"
   ]
  },
  {
   "cell_type": "code",
   "execution_count": 45,
   "metadata": {},
   "outputs": [
    {
     "name": "stdout",
     "output_type": "stream",
     "text": [
      "Subset: dist, 25/25\n",
      "Subset: full, 25/25\n",
      "Subset: simd, 25/25\n",
      "Subset: dist_time, 25/25\n",
      "Subset: dist_remoteness, 25/25\n"
     ]
    }
   ],
   "source": [
    "check_on_dataset(scaled_model, \"svr_linear\", log_name, final_model = SVR, kernel = 'linear', C = 0.1, max_iter =1e6, epsilon = 0.5, iterations = 25)"
   ]
  },
  {
   "cell_type": "code",
   "execution_count": 46,
   "metadata": {},
   "outputs": [
    {
     "name": "stdout",
     "output_type": "stream",
     "text": [
      "Subset: dist, 25/25\n",
      "Subset: full, 25/25\n",
      "Subset: simd, 25/25\n",
      "Subset: dist_time, 25/25\n",
      "Subset: dist_remoteness, 25/25\n"
     ]
    }
   ],
   "source": [
    "check_on_dataset(scaled_model, \"svr_rbf\", log_name, final_model = SVR, kernel = 'rbf', C = 1000, max_iter =1e6, epsilon = 0.5, iterations = 25)"
   ]
  },
  {
   "cell_type": "code",
   "execution_count": 6,
   "metadata": {},
   "outputs": [
    {
     "name": "stdout",
     "output_type": "stream",
     "text": [
      "dist - 25/25\n",
      "dist_time - 25/25\n",
      "dist_remoteness - 25/25\n",
      "full - 25/25\n",
      "simd - 25/25\n"
     ]
    }
   ],
   "source": [
    "pca_values = {'dist': 1, 'dist_time': 2, 'dist_remoteness': 6, 'full': 8, 'simd': 11}\n",
    "for subset in pca_values.keys():\n",
    "    for i in range(25):\n",
    "        print(f\"{subset} - {i+1}/25\", end = '\\r')\n",
    "        fit_and_evaluate_ML_model(PCA_model, \"pca_svr\", dataset_in, subset, log_name, final_model = SVR, n_components = pca_values[subset], iterate=True,\n",
    "                                 kernel = 'rbf', C = 1000, max_iter = 1e7, epsilon = 0.5)\n",
    "    print(\"\")"
   ]
  },
  {
   "cell_type": "code",
   "execution_count": null,
   "metadata": {},
   "outputs": [],
   "source": []
  }
 ],
 "metadata": {
  "kernelspec": {
   "display_name": "Python 3",
   "language": "python",
   "name": "python3"
  },
  "language_info": {
   "codemirror_mode": {
    "name": "ipython",
    "version": 3
   },
   "file_extension": ".py",
   "mimetype": "text/x-python",
   "name": "python",
   "nbconvert_exporter": "python",
   "pygments_lexer": "ipython3",
   "version": "3.7.9"
  }
 },
 "nbformat": 4,
 "nbformat_minor": 4
}
