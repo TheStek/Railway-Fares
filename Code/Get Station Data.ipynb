{
 "cells": [
  {
   "cell_type": "code",
   "execution_count": 1,
   "metadata": {},
   "outputs": [],
   "source": [
    "import numpy as np\n",
    "import pandas as pd\n",
    "import requests\n",
    "from bs4 import BeautifulSoup \n",
    "import re"
   ]
  },
  {
   "cell_type": "code",
   "execution_count": 2,
   "metadata": {},
   "outputs": [],
   "source": [
    "url = \"https://www.scotrail.co.uk/plan-your-journey/stations-and-facilities#\""
   ]
  },
  {
   "cell_type": "code",
   "execution_count": 3,
   "metadata": {},
   "outputs": [],
   "source": [
    "page = requests.get(url)\n",
    "soup = BeautifulSoup(page.content, 'html.parser')"
   ]
  },
  {
   "cell_type": "code",
   "execution_count": 4,
   "metadata": {},
   "outputs": [],
   "source": [
    "links = []\n",
    "re_string = r\"^\\/plan-your-journey\\/stations-and-facilities\\/([a-z][a-z][a-z])$\"\n",
    "for link in soup.find_all('a'):\n",
    "    link_text = link.get('href')\n",
    "    if link_text is not None:\n",
    "        if re.search(re_string, link_text) is not None:\n",
    "            links.append(link_text)"
   ]
  },
  {
   "cell_type": "code",
   "execution_count": 5,
   "metadata": {},
   "outputs": [],
   "source": [
    "station_codes = list(map(lambda x: x[-3:].upper(), links))"
   ]
  },
  {
   "cell_type": "code",
   "execution_count": 6,
   "metadata": {},
   "outputs": [],
   "source": [
    "urls = [f\"https://en.wikipedia.org/wiki/UK_railway_stations_%E2%80%93_{letter}\" for letter in \"ABCDEFGHIJKLMNOPQRSTUVWXYZ\"]\n",
    "station_info = []\n"
   ]
  },
  {
   "cell_type": "code",
   "execution_count": 7,
   "metadata": {},
   "outputs": [
    {
     "name": "stdout",
     "output_type": "stream",
     "text": [
      "\n",
      "\n",
      "\n",
      "\n",
      "\n",
      "\n",
      "\n",
      "\n",
      "\n",
      "\n",
      "\n",
      "\n",
      "\n",
      "\n",
      "\n",
      "\n",
      "\n",
      "\n",
      "\n",
      "\n",
      "\n",
      "\n",
      "\n",
      "\n",
      "\n",
      "\n"
     ]
    }
   ],
   "source": [
    "for url in urls:\n",
    "    page = requests.get(url)\n",
    "    soup = BeautifulSoup(page.content, 'html.parser')\n",
    "    rows = soup.find_all(\"tr\")\n",
    "    print()\n",
    "    for row in rows:\n",
    "        cols = row.find_all(\"a\")\n",
    "        try:\n",
    "            station_info.append([cols[1].text, cols[2].text[:3]])\n",
    "        except Exception:\n",
    "            continue"
   ]
  },
  {
   "cell_type": "code",
   "execution_count": 8,
   "metadata": {},
   "outputs": [],
   "source": [
    "scottish_stations = list(filter(lambda x: x[1] in station_codes, station_info))"
   ]
  },
  {
   "cell_type": "code",
   "execution_count": 9,
   "metadata": {},
   "outputs": [],
   "source": [
    "def get_coords(postcode):\n",
    "    try:\n",
    "        result = requests.get(f\"https://findthatpostcode.uk/postcodes/{postcode.replace(' ', '+')}.json\")\n",
    "        location =  result.json()['data']['attributes']['location']\n",
    "        return location['lat'], location['lon']\n",
    "    except Exception:\n",
    "        print(f\"Failed on {postcode}\")\n",
    "        return \"FAILED\", \"FAILED\""
   ]
  },
  {
   "cell_type": "code",
   "execution_count": 10,
   "metadata": {},
   "outputs": [
    {
     "name": "stdout",
     "output_type": "stream",
     "text": [
      "Failed on EH48 3BW\n",
      "Failed on G69 1AA\n",
      "Failed on PA9 1XX\n"
     ]
    }
   ],
   "source": [
    "for station in scottish_stations:\n",
    "    lat, lon = get_coords(station[0])\n",
    "    station.append(lat)\n",
    "    station.append(lon)"
   ]
  },
  {
   "cell_type": "code",
   "execution_count": 11,
   "metadata": {},
   "outputs": [
    {
     "data": {
      "text/html": [
       "<div>\n",
       "<style scoped>\n",
       "    .dataframe tbody tr th:only-of-type {\n",
       "        vertical-align: middle;\n",
       "    }\n",
       "\n",
       "    .dataframe tbody tr th {\n",
       "        vertical-align: top;\n",
       "    }\n",
       "\n",
       "    .dataframe thead th {\n",
       "        text-align: right;\n",
       "    }\n",
       "</style>\n",
       "<table border=\"1\" class=\"dataframe\">\n",
       "  <thead>\n",
       "    <tr style=\"text-align: right;\">\n",
       "      <th></th>\n",
       "      <th>CRS</th>\n",
       "      <th>Postcode</th>\n",
       "      <th>lat</th>\n",
       "      <th>lon</th>\n",
       "    </tr>\n",
       "  </thead>\n",
       "  <tbody>\n",
       "    <tr>\n",
       "      <th>0</th>\n",
       "      <td>ABD</td>\n",
       "      <td>AB11 6RT</td>\n",
       "      <td>57.1441</td>\n",
       "      <td>-2.09878</td>\n",
       "    </tr>\n",
       "    <tr>\n",
       "      <th>1</th>\n",
       "      <td>AUR</td>\n",
       "      <td>KY3 0TQ</td>\n",
       "      <td>56.0545</td>\n",
       "      <td>-3.29964</td>\n",
       "    </tr>\n",
       "    <tr>\n",
       "      <th>2</th>\n",
       "      <td>AAT</td>\n",
       "      <td>IV23 2QD</td>\n",
       "      <td>57.6097</td>\n",
       "      <td>-4.93896</td>\n",
       "    </tr>\n",
       "    <tr>\n",
       "      <th>3</th>\n",
       "      <td>ACN</td>\n",
       "      <td>IV22 2EE</td>\n",
       "      <td>57.5797</td>\n",
       "      <td>-5.07546</td>\n",
       "    </tr>\n",
       "    <tr>\n",
       "      <th>4</th>\n",
       "      <td>ACH</td>\n",
       "      <td>IV54 8YU</td>\n",
       "      <td>57.4779</td>\n",
       "      <td>-5.33297</td>\n",
       "    </tr>\n",
       "  </tbody>\n",
       "</table>\n",
       "</div>"
      ],
      "text/plain": [
       "   CRS  Postcode      lat      lon\n",
       "0  ABD  AB11 6RT  57.1441 -2.09878\n",
       "1  AUR   KY3 0TQ  56.0545 -3.29964\n",
       "2  AAT  IV23 2QD  57.6097 -4.93896\n",
       "3  ACN  IV22 2EE  57.5797 -5.07546\n",
       "4  ACH  IV54 8YU  57.4779 -5.33297"
      ]
     },
     "execution_count": 11,
     "metadata": {},
     "output_type": "execute_result"
    }
   ],
   "source": [
    "df_station = pd.DataFrame([s[:4] for s in scottish_stations], columns = [\"Postcode\", \"CRS\", \"lat\", \"lon\"])\n",
    "df_station = pd.DataFrame(station_codes, columns = [\"CRS\"]).merge(df_station, how = 'left', on = 'CRS')\n",
    "df_station.head()"
   ]
  },
  {
   "cell_type": "code",
   "execution_count": 12,
   "metadata": {},
   "outputs": [
    {
     "data": {
      "text/html": [
       "<div>\n",
       "<style scoped>\n",
       "    .dataframe tbody tr th:only-of-type {\n",
       "        vertical-align: middle;\n",
       "    }\n",
       "\n",
       "    .dataframe tbody tr th {\n",
       "        vertical-align: top;\n",
       "    }\n",
       "\n",
       "    .dataframe thead th {\n",
       "        text-align: right;\n",
       "    }\n",
       "</style>\n",
       "<table border=\"1\" class=\"dataframe\">\n",
       "  <thead>\n",
       "    <tr style=\"text-align: right;\">\n",
       "      <th></th>\n",
       "      <th>Location</th>\n",
       "      <th>CRS</th>\n",
       "      <th>NLC</th>\n",
       "      <th>TIPLOC</th>\n",
       "      <th>STANME</th>\n",
       "      <th>STANOX</th>\n",
       "      <th>NLC Clipped</th>\n",
       "    </tr>\n",
       "  </thead>\n",
       "  <tbody>\n",
       "    <tr>\n",
       "      <th>0</th>\n",
       "      <td>Aachen</td>\n",
       "      <td>NaN</td>\n",
       "      <td>081601</td>\n",
       "      <td>AACHEN</td>\n",
       "      <td>AACHEN</td>\n",
       "      <td>00005</td>\n",
       "      <td>NaN</td>\n",
       "    </tr>\n",
       "    <tr>\n",
       "      <th>1</th>\n",
       "      <td>Abbeyhill Junction</td>\n",
       "      <td>NaN</td>\n",
       "      <td>937800</td>\n",
       "      <td>ABHLJN</td>\n",
       "      <td>ABBYHILLJ</td>\n",
       "      <td>04309</td>\n",
       "      <td>9378</td>\n",
       "    </tr>\n",
       "    <tr>\n",
       "      <th>2</th>\n",
       "      <td>Abbeyhill Signal E811</td>\n",
       "      <td>NaN</td>\n",
       "      <td>937802</td>\n",
       "      <td>ABHL811</td>\n",
       "      <td>EDSIG811</td>\n",
       "      <td>04311</td>\n",
       "      <td>NaN</td>\n",
       "    </tr>\n",
       "    <tr>\n",
       "      <th>3</th>\n",
       "      <td>Abbeyhill Turnback Sidings</td>\n",
       "      <td>NaN</td>\n",
       "      <td>937801</td>\n",
       "      <td>ABHLTB</td>\n",
       "      <td>ABBYHILTB</td>\n",
       "      <td>04308</td>\n",
       "      <td>NaN</td>\n",
       "    </tr>\n",
       "    <tr>\n",
       "      <th>4</th>\n",
       "      <td>Abbey Level Crossing (Staffordshire)</td>\n",
       "      <td>NaN</td>\n",
       "      <td>130201</td>\n",
       "      <td>NaN</td>\n",
       "      <td>NaN</td>\n",
       "      <td>NaN</td>\n",
       "      <td>NaN</td>\n",
       "    </tr>\n",
       "  </tbody>\n",
       "</table>\n",
       "</div>"
      ],
      "text/plain": [
       "                               Location  CRS     NLC   TIPLOC     STANME  \\\n",
       "0                                Aachen  NaN  081601   AACHEN     AACHEN   \n",
       "1                    Abbeyhill Junction  NaN  937800   ABHLJN  ABBYHILLJ   \n",
       "2                 Abbeyhill Signal E811  NaN  937802  ABHL811   EDSIG811   \n",
       "3            Abbeyhill Turnback Sidings  NaN  937801   ABHLTB  ABBYHILTB   \n",
       "4  Abbey Level Crossing (Staffordshire)  NaN  130201      NaN        NaN   \n",
       "\n",
       "  STANOX NLC Clipped  \n",
       "0  00005         NaN  \n",
       "1  04309        9378  \n",
       "2  04311         NaN  \n",
       "3  04308         NaN  \n",
       "4    NaN         NaN  "
      ]
     },
     "execution_count": 12,
     "metadata": {},
     "output_type": "execute_result"
    }
   ],
   "source": [
    "nlc_codes = pd.read_csv(\"C:\\\\Users\\\\User\\\\Documents\\\\4. Fourth Year\\\\Project\\\\Railway-Fares\\\\Data\\\\nlc_codes.csv\", dtype = str)\n",
    "nlc_codes.head()"
   ]
  },
  {
   "cell_type": "code",
   "execution_count": 13,
   "metadata": {},
   "outputs": [],
   "source": [
    "station_master = df_station.merge(nlc_codes, on='CRS', how = 'left')"
   ]
  },
  {
   "cell_type": "code",
   "execution_count": 14,
   "metadata": {},
   "outputs": [],
   "source": [
    "station_master = station_master[[\"Postcode\", \"CRS\", \"lat\", \"lon\", \"Location\", \"NLC Clipped\"]]\n",
    "station_master = station_master.rename(columns = {\"Location\": \"Name\", \"NLC Clipped\":\"NLC\"})"
   ]
  },
  {
   "cell_type": "code",
   "execution_count": 15,
   "metadata": {},
   "outputs": [],
   "source": [
    "station_master.to_csv(\"C:\\\\Users\\\\User\\\\Documents\\\\4. Fourth Year\\\\Project\\\\Railway-Fares\\\\Data\\\\Cleansed Data\\\\station.csv\", index = False)"
   ]
  },
  {
   "cell_type": "code",
   "execution_count": null,
   "metadata": {},
   "outputs": [],
   "source": []
  },
  {
   "cell_type": "code",
   "execution_count": null,
   "metadata": {},
   "outputs": [],
   "source": []
  }
 ],
 "metadata": {
  "kernelspec": {
   "display_name": "Python 3",
   "language": "python",
   "name": "python3"
  },
  "language_info": {
   "codemirror_mode": {
    "name": "ipython",
    "version": 3
   },
   "file_extension": ".py",
   "mimetype": "text/x-python",
   "name": "python",
   "nbconvert_exporter": "python",
   "pygments_lexer": "ipython3",
   "version": "3.7.9"
  }
 },
 "nbformat": 4,
 "nbformat_minor": 4
}
