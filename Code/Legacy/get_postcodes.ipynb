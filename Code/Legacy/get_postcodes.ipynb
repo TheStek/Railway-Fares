{
 "cells": [
  {
   "cell_type": "code",
   "execution_count": 1,
   "metadata": {},
   "outputs": [],
   "source": [
    "import numpy as np\n",
    "import pandas as pd\n",
    "import requests\n",
    "import json"
   ]
  },
  {
   "cell_type": "code",
   "execution_count": 2,
   "metadata": {},
   "outputs": [],
   "source": [
    "locations = pd.read_csv(r\"C:\\Users\\User\\Documents\\4. Fourth Year\\Project\\Railway-Fares\\Data\\Station Locations.csv\")"
   ]
  },
  {
   "cell_type": "code",
   "execution_count": 3,
   "metadata": {},
   "outputs": [],
   "source": [
    "locations = locations.loc[locations[\"Operator\"].str.contains(\"Scotrail\", na = False)][['Latitude', 'Longitude', 'Station']]"
   ]
  },
  {
   "cell_type": "code",
   "execution_count": 4,
   "metadata": {},
   "outputs": [],
   "source": [
    "def get_postcode(lat, long):\n",
    "    try:\n",
    "        result = requests.get(f\"https://findthatpostcode.uk/points/{lat}%2C{long}.json\")\n",
    "        return result.json()['data']['relationships']['nearest_postcode']['data']['id']\n",
    "    except Exception:\n",
    "        print(f\"Issue with {lat}, {long}\")\n",
    "        return \"FAILED\""
   ]
  },
  {
   "cell_type": "code",
   "execution_count": 5,
   "metadata": {},
   "outputs": [
    {
     "name": "stdout",
     "output_type": "stream",
     "text": [
      "The slowest run took 4.67 times longer than the fastest. This could mean that an intermediate result is being cached.\n",
      "1.17 s ± 837 ms per loop (mean ± std. dev. of 7 runs, 1 loop each)\n"
     ]
    }
   ],
   "source": [
    "%%timeit\n",
    "get_postcode(55.6056, -2.7584)"
   ]
  },
  {
   "cell_type": "code",
   "execution_count": 6,
   "metadata": {},
   "outputs": [
    {
     "data": {
      "text/html": [
       "<div>\n",
       "<style scoped>\n",
       "    .dataframe tbody tr th:only-of-type {\n",
       "        vertical-align: middle;\n",
       "    }\n",
       "\n",
       "    .dataframe tbody tr th {\n",
       "        vertical-align: top;\n",
       "    }\n",
       "\n",
       "    .dataframe thead th {\n",
       "        text-align: right;\n",
       "    }\n",
       "</style>\n",
       "<table border=\"1\" class=\"dataframe\">\n",
       "  <thead>\n",
       "    <tr style=\"text-align: right;\">\n",
       "      <th></th>\n",
       "      <th>Latitude</th>\n",
       "      <th>Longitude</th>\n",
       "      <th>Station</th>\n",
       "      <th>Postcode</th>\n",
       "    </tr>\n",
       "  </thead>\n",
       "  <tbody>\n",
       "    <tr>\n",
       "      <th>539</th>\n",
       "      <td>55.8935</td>\n",
       "      <td>-4.3097</td>\n",
       "      <td>Kelvindale</td>\n",
       "      <td>G20 0TB</td>\n",
       "    </tr>\n",
       "    <tr>\n",
       "      <th>661</th>\n",
       "      <td>55.8972</td>\n",
       "      <td>-3.6361</td>\n",
       "      <td>Bathgate</td>\n",
       "      <td>EH48 1DZ</td>\n",
       "    </tr>\n",
       "    <tr>\n",
       "      <th>658</th>\n",
       "      <td>57.4777</td>\n",
       "      <td>-4.4688</td>\n",
       "      <td>Beauly</td>\n",
       "      <td>IV4 7EP</td>\n",
       "    </tr>\n",
       "    <tr>\n",
       "      <th>432</th>\n",
       "      <td>55.9270</td>\n",
       "      <td>-3.2430</td>\n",
       "      <td>Slateford</td>\n",
       "      <td>EH14 1PZ</td>\n",
       "    </tr>\n",
       "    <tr>\n",
       "      <th>683</th>\n",
       "      <td>55.6401</td>\n",
       "      <td>-4.8215</td>\n",
       "      <td>Ardrossan Harbour</td>\n",
       "      <td>KA22 8ED</td>\n",
       "    </tr>\n",
       "  </tbody>\n",
       "</table>\n",
       "</div>"
      ],
      "text/plain": [
       "     Latitude  Longitude            Station  Postcode\n",
       "539   55.8935    -4.3097         Kelvindale   G20 0TB\n",
       "661   55.8972    -3.6361           Bathgate  EH48 1DZ\n",
       "658   57.4777    -4.4688             Beauly   IV4 7EP\n",
       "432   55.9270    -3.2430          Slateford  EH14 1PZ\n",
       "683   55.6401    -4.8215  Ardrossan Harbour  KA22 8ED"
      ]
     },
     "execution_count": 6,
     "metadata": {},
     "output_type": "execute_result"
    }
   ],
   "source": [
    "test_df = locations.sample(5)\n",
    "test_df[\"Postcode\"] = test_df.apply(lambda x: get_postcode(x[0], x[1]), axis = 1)\n",
    "test_df\n"
   ]
  },
  {
   "cell_type": "code",
   "execution_count": 7,
   "metadata": {},
   "outputs": [
    {
     "name": "stdout",
     "output_type": "stream",
     "text": [
      "Issue with 58.3567, -3.8971\n",
      "Issue with nan, nan\n"
     ]
    }
   ],
   "source": [
    "locations[\"Postcode\"] = locations.apply(lambda x: get_postcode(x[0], x[1]), axis = 1)"
   ]
  },
  {
   "cell_type": "code",
   "execution_count": 8,
   "metadata": {},
   "outputs": [],
   "source": [
    "locations.to_csv(r\"C:\\Users\\User\\Documents\\4. Fourth Year\\Project\\Railway-Fares\\Data\\Station Postcodes.csv\", index = False)"
   ]
  },
  {
   "cell_type": "code",
   "execution_count": 11,
   "metadata": {},
   "outputs": [
    {
     "data": {
      "text/html": [
       "<div>\n",
       "<style scoped>\n",
       "    .dataframe tbody tr th:only-of-type {\n",
       "        vertical-align: middle;\n",
       "    }\n",
       "\n",
       "    .dataframe tbody tr th {\n",
       "        vertical-align: top;\n",
       "    }\n",
       "\n",
       "    .dataframe thead th {\n",
       "        text-align: right;\n",
       "    }\n",
       "</style>\n",
       "<table border=\"1\" class=\"dataframe\">\n",
       "  <thead>\n",
       "    <tr style=\"text-align: right;\">\n",
       "      <th></th>\n",
       "      <th>Latitude</th>\n",
       "      <th>Longitude</th>\n",
       "      <th>Station</th>\n",
       "      <th>Postcode</th>\n",
       "    </tr>\n",
       "  </thead>\n",
       "  <tbody>\n",
       "    <tr>\n",
       "      <th>594</th>\n",
       "      <td>58.3567</td>\n",
       "      <td>-3.8971</td>\n",
       "      <td>Forsinard</td>\n",
       "      <td>FAILED</td>\n",
       "    </tr>\n",
       "    <tr>\n",
       "      <th>703</th>\n",
       "      <td>NaN</td>\n",
       "      <td>NaN</td>\n",
       "      <td>Edinburgh Gateway</td>\n",
       "      <td>FAILED</td>\n",
       "    </tr>\n",
       "  </tbody>\n",
       "</table>\n",
       "</div>"
      ],
      "text/plain": [
       "     Latitude  Longitude            Station Postcode\n",
       "594   58.3567    -3.8971          Forsinard   FAILED\n",
       "703       NaN        NaN  Edinburgh Gateway   FAILED"
      ]
     },
     "execution_count": 11,
     "metadata": {},
     "output_type": "execute_result"
    }
   ],
   "source": [
    "locations.loc[locations[\"Postcode\"] ==  \"FAILED\"]"
   ]
  },
  {
   "cell_type": "code",
   "execution_count": 12,
   "metadata": {},
   "outputs": [
    {
     "data": {
      "text/plain": [
       "318"
      ]
     },
     "execution_count": 12,
     "metadata": {},
     "output_type": "execute_result"
    }
   ],
   "source": [
    "len(locations)"
   ]
  },
  {
   "cell_type": "code",
   "execution_count": null,
   "metadata": {},
   "outputs": [],
   "source": []
  }
 ],
 "metadata": {
  "kernelspec": {
   "display_name": "Python 3",
   "language": "python",
   "name": "python3"
  },
  "language_info": {
   "codemirror_mode": {
    "name": "ipython",
    "version": 3
   },
   "file_extension": ".py",
   "mimetype": "text/x-python",
   "name": "python",
   "nbconvert_exporter": "python",
   "pygments_lexer": "ipython3",
   "version": "3.7.9"
  }
 },
 "nbformat": 4,
 "nbformat_minor": 4
}
