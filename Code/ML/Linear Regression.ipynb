{
 "cells": [
  {
   "cell_type": "code",
   "execution_count": 15,
   "metadata": {},
   "outputs": [],
   "source": [
    "import numpy as np\n",
    "import pandas as pd\n",
    "import matplotlib.pyplot as plt\n",
    "import sklearn\n",
    "from sklearn.ensemble import RandomForestRegressor\n",
    "\n",
    "import warnings\n",
    "warnings.filterwarnings(\"ignore\", category=DeprecationWarning)"
   ]
  },
  {
   "cell_type": "code",
   "execution_count": 16,
   "metadata": {},
   "outputs": [],
   "source": [
    "import os\n",
    "cwd = os.getcwd()\n",
    "project_path = (cwd, None)\n",
    "while project_path[1] != \"Code\":\n",
    "    project_path = os.path.split(project_path[0])\n",
    "project_path = project_path[0]"
   ]
  },
  {
   "cell_type": "code",
   "execution_count": 17,
   "metadata": {},
   "outputs": [],
   "source": [
    "data_dz = pd.read_csv(project_path + \"/Datasets/data_dz.csv\")\n",
    "data_in = pd.read_csv(project_path + \"/Datasets/data_in.csv\")\n",
    "data_ca = pd.read_csv(project_path + \"/Datasets/data_ca.csv\")"
   ]
  },
  {
   "cell_type": "code",
   "execution_count": 18,
   "metadata": {},
   "outputs": [],
   "source": [
    "def generate_train_val_test_set(df, name):\n",
    "    \n",
    "    df = df.dropna()\n",
    "    \n",
    "    output = {\"train\": {}, \"val\": {}, \"test\": {}, \"name\": name}\n",
    "    \n",
    "    train = df.sample(frac=0.7)\n",
    "    val_test = df.drop(train.index)\n",
    "    \n",
    "    val = val_test.sample(frac=0.7)\n",
    "    test = val_test.drop(val.index)\n",
    "\n",
    "    output[\"train\"][\"y\"] = np.ravel(train[[\"FARE\"]])\n",
    "    output[\"val\"][\"y\"] = np.ravel(val[[\"FARE\"]])\n",
    "    output[\"test\"][\"y\"] = np.ravel(test[[\"FARE\"]])\n",
    "    \n",
    "    \n",
    "    output[\"train\"][\"dist\"] = train[[\"Distance\"]]\n",
    "    output[\"val\"][\"dist\"] = val[[\"Distance\"]]\n",
    "    output[\"test\"][\"dist\"] = test[[\"Distance\"]]\n",
    "\n",
    "    output[\"train\"][\"simd\"] = train[list(set(df.columns).difference({\"ORIGIN_CODE\", \"DESTINATION_CODE\", \"Distance\", \"FARE\"}))]\n",
    "    output[\"val\"][\"simd\"] = val[list(set(df.columns).difference({\"ORIGIN_CODE\", \"DESTINATION_CODE\", \"Distance\", \"FARE\"}))]\n",
    "    output[\"test\"][\"simd\"] = test[list(set(df.columns).difference({\"ORIGIN_CODE\", \"DESTINATION_CODE\", \"Distance\", \"FARE\"}))]\n",
    "\n",
    "    output[\"train\"][\"full\"] = train[list(set(df.columns).difference({\"ORIGIN_CODE\", \"DESTINATION_CODE\", \"FARE\"}))]\n",
    "    output[\"val\"][\"full\"] = val[list(set(df.columns).difference({\"ORIGIN_CODE\", \"DESTINATION_CODE\", \"FARE\"}))]\n",
    "    output[\"test\"][\"full\"] = test[list(set(df.columns).difference({\"ORIGIN_CODE\", \"DESTINATION_CODE\", \"FARE\"}))]\n",
    "    \n",
    "    return output.copy()"
   ]
  },
  {
   "cell_type": "code",
   "execution_count": 19,
   "metadata": {},
   "outputs": [],
   "source": [
    "dataset_dz = generate_train_val_test_set(data_dz, \"datazone\")\n",
    "dataset_in = generate_train_val_test_set(data_in, \"intermediate zone\")\n",
    "dataset_ca = generate_train_val_test_set(data_ca, \"council area\")"
   ]
  },
  {
   "cell_type": "code",
   "execution_count": 20,
   "metadata": {},
   "outputs": [],
   "source": [
    "from sklearn.linear_model import LinearRegression\n",
    "\n",
    "def fit_and_evaluate_LinReg(dataset, subset = \"full\", *args, **kwargs):\n",
    "    model = LinearRegression(*args, **kwargs)\n",
    "    model.fit(dataset[\"train\"][subset], dataset[\"train\"][\"y\"])\n",
    "    test_score = model.score(dataset[\"val\"][subset], dataset[\"val\"][\"y\"])\n",
    "    print(f\"{subset} using {dataset['name']} dataset, score: {test_score}\")\n",
    "    return model"
   ]
  },
  {
   "cell_type": "code",
   "execution_count": 21,
   "metadata": {},
   "outputs": [
    {
     "name": "stdout",
     "output_type": "stream",
     "text": [
      "dist using datazone dataset, score: 0.7454216374954086\n",
      "dist using intermediate zone dataset, score: 0.7730990377099377\n",
      "dist using council area dataset, score: 0.7628373942830609\n",
      "simd using datazone dataset, score: 0.21109865976194198\n",
      "simd using intermediate zone dataset, score: 0.2097357731780457\n",
      "simd using council area dataset, score: 0.4005856327364465\n",
      "full using datazone dataset, score: 0.7729277775008446\n",
      "full using intermediate zone dataset, score: 0.7931849201916199\n",
      "full using council area dataset, score: 0.8024052384288308\n"
     ]
    }
   ],
   "source": [
    "for subset in (\"dist\", \"simd\", \"full\"):\n",
    "    for dataset in (dataset_dz, dataset_in, dataset_ca):\n",
    "        fit_and_evaluate_LinReg(dataset, subset)"
   ]
  },
  {
   "cell_type": "code",
   "execution_count": 23,
   "metadata": {},
   "outputs": [
    {
     "name": "stdout",
     "output_type": "stream",
     "text": [
      "dist using datazone dataset, score: 0.730812771915907\n",
      "dist using intermediate zone dataset, score: 0.7609415648881732\n",
      "dist using council area dataset, score: 0.7506820407192061\n",
      "simd using datazone dataset, score: 0.16021950520581218\n",
      "simd using intermediate zone dataset, score: 0.17318786550880327\n",
      "simd using council area dataset, score: 0.38081286168497264\n",
      "full using datazone dataset, score: 0.7725656928714593\n",
      "full using intermediate zone dataset, score: 0.7924411150163289\n",
      "full using council area dataset, score: 0.7976622319663561\n"
     ]
    }
   ],
   "source": [
    "for subset in (\"dist\", \"simd\", \"full\"):\n",
    "    for dataset in (dataset_dz, dataset_in, dataset_ca):\n",
    "        fit_and_evaluate_LinReg(dataset, subset, fit_intercept = False)"
   ]
  },
  {
   "cell_type": "code",
   "execution_count": null,
   "metadata": {},
   "outputs": [],
   "source": []
  }
 ],
 "metadata": {
  "kernelspec": {
   "display_name": "Python 3",
   "language": "python",
   "name": "python3"
  },
  "language_info": {
   "codemirror_mode": {
    "name": "ipython",
    "version": 3
   },
   "file_extension": ".py",
   "mimetype": "text/x-python",
   "name": "python",
   "nbconvert_exporter": "python",
   "pygments_lexer": "ipython3",
   "version": "3.7.9"
  }
 },
 "nbformat": 4,
 "nbformat_minor": 4
}
