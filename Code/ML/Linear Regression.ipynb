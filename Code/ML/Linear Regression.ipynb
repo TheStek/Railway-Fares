{
 "cells": [
  {
   "cell_type": "code",
   "execution_count": 8,
   "metadata": {},
   "outputs": [],
   "source": [
    "import numpy as np\n",
    "import pandas as pd\n",
    "import matplotlib.pyplot as plt\n",
    "import sklearn\n",
    "from sklearn.ensemble import RandomForestRegressor\n",
    "\n",
    "import warnings\n",
    "warnings.filterwarnings(\"ignore\", category=DeprecationWarning)"
   ]
  },
  {
   "cell_type": "code",
   "execution_count": 9,
   "metadata": {},
   "outputs": [],
   "source": [
    "import os\n",
    "cwd = os.getcwd()\n",
    "project_path = (cwd, None)\n",
    "while project_path[1] != \"Code\":\n",
    "    project_path = os.path.split(project_path[0])\n",
    "project_path = project_path[0]"
   ]
  },
  {
   "cell_type": "code",
   "execution_count": 10,
   "metadata": {},
   "outputs": [],
   "source": [
    "data_dz = pd.read_csv(project_path + \"/Datasets/data_dz.csv\")\n",
    "data_in = pd.read_csv(project_path + \"/Datasets/data_in.csv\")\n",
    "data_ca = pd.read_csv(project_path + \"/Datasets/data_ca.csv\")"
   ]
  },
  {
   "cell_type": "code",
   "execution_count": 11,
   "metadata": {},
   "outputs": [],
   "source": [
    "def generate_train_val_test_set(df, name):\n",
    "    \n",
    "    df = df.dropna()\n",
    "    \n",
    "    output = {\"train\": {}, \"val\": {}, \"test\": {}, \"name\": name}\n",
    "    \n",
    "    train = df.sample(frac=0.7)\n",
    "    val_test = df.drop(train.index)\n",
    "    \n",
    "    val = val_test.sample(frac=0.7)\n",
    "    test = val_test.drop(val.index)\n",
    "\n",
    "    output[\"train\"][\"y\"] = np.ravel(train[[\"FARE\"]])\n",
    "    output[\"val\"][\"y\"] = np.ravel(val[[\"FARE\"]])\n",
    "    output[\"test\"][\"y\"] = np.ravel(test[[\"FARE\"]])\n",
    "    \n",
    "    \n",
    "    output[\"train\"][\"dist\"] = train[[\"Distance\"]]\n",
    "    output[\"val\"][\"dist\"] = val[[\"Distance\"]]\n",
    "    output[\"test\"][\"dist\"] = test[[\"Distance\"]]\n",
    "\n",
    "    output[\"train\"][\"simd\"] = train[list(set(df.columns).difference({\"ORIGIN_CODE\", \"DESTINATION_CODE\", \"Distance\", \"FARE\"}))]\n",
    "    output[\"val\"][\"simd\"] = val[list(set(df.columns).difference({\"ORIGIN_CODE\", \"DESTINATION_CODE\", \"Distance\", \"FARE\"}))]\n",
    "    output[\"test\"][\"simd\"] = test[list(set(df.columns).difference({\"ORIGIN_CODE\", \"DESTINATION_CODE\", \"Distance\", \"FARE\"}))]\n",
    "\n",
    "    output[\"train\"][\"full\"] = train[list(set(df.columns).difference({\"ORIGIN_CODE\", \"DESTINATION_CODE\", \"FARE\"}))]\n",
    "    output[\"val\"][\"full\"] = val[list(set(df.columns).difference({\"ORIGIN_CODE\", \"DESTINATION_CODE\", \"FARE\"}))]\n",
    "    output[\"test\"][\"full\"] = test[list(set(df.columns).difference({\"ORIGIN_CODE\", \"DESTINATION_CODE\", \"FARE\"}))]\n",
    "    \n",
    "    return output.copy()"
   ]
  },
  {
   "cell_type": "code",
   "execution_count": 12,
   "metadata": {},
   "outputs": [],
   "source": [
    "dataset_dz = generate_train_val_test_set(data_dz, \"datazone\")\n",
    "dataset_in = generate_train_val_test_set(data_in, \"intermediate zone\")\n",
    "dataset_ca = generate_train_val_test_set(data_ca, \"council area\")"
   ]
  },
  {
   "cell_type": "code",
   "execution_count": 13,
   "metadata": {},
   "outputs": [],
   "source": [
    "from sklearn.linear_model import LinearRegression\n",
    "\n",
    "def fit_and_evaluate_LinReg(dataset, subset = \"full\"):\n",
    "    model = LinearRegression()\n",
    "    model.fit(dataset[\"train\"][subset], dataset[\"train\"][\"y\"])\n",
    "    test_score = model.score(dataset[\"val\"][subset], dataset[\"val\"][\"y\"])\n",
    "    print(f\"{subset} using {dataset['name']} dataset, score: {test_score}\")\n",
    "    return model"
   ]
  },
  {
   "cell_type": "code",
   "execution_count": 14,
   "metadata": {},
   "outputs": [
    {
     "name": "stdout",
     "output_type": "stream",
     "text": [
      "dist using datazone dataset, score: 0.7893463154765963\n",
      "dist using intermediate zone dataset, score: 0.759110096378808\n",
      "dist using council area dataset, score: 0.7671929993905116\n",
      "simd using datazone dataset, score: 0.22871732240725895\n",
      "simd using intermediate zone dataset, score: 0.21833619194192466\n",
      "simd using council area dataset, score: 0.42242416975360647\n",
      "full using datazone dataset, score: 0.8120896717263887\n",
      "full using intermediate zone dataset, score: 0.7806813625272585\n",
      "full using council area dataset, score: 0.8055409211768857\n"
     ]
    }
   ],
   "source": [
    "for subset in (\"dist\", \"simd\", \"full\"):\n",
    "    for dataset in (dataset_dz, dataset_in, dataset_ca):\n",
    "        fit_and_evaluate_LinReg(dataset, subset)"
   ]
  },
  {
   "cell_type": "code",
   "execution_count": null,
   "metadata": {},
   "outputs": [],
   "source": []
  },
  {
   "cell_type": "code",
   "execution_count": null,
   "metadata": {},
   "outputs": [],
   "source": []
  }
 ],
 "metadata": {
  "kernelspec": {
   "display_name": "Python 3",
   "language": "python",
   "name": "python3"
  },
  "language_info": {
   "codemirror_mode": {
    "name": "ipython",
    "version": 3
   },
   "file_extension": ".py",
   "mimetype": "text/x-python",
   "name": "python",
   "nbconvert_exporter": "python",
   "pygments_lexer": "ipython3",
   "version": "3.7.9"
  }
 },
 "nbformat": 4,
 "nbformat_minor": 4
}
