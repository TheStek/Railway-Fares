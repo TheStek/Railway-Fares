{
 "cells": [
  {
   "cell_type": "code",
   "execution_count": 20,
   "metadata": {},
   "outputs": [],
   "source": [
    "import numpy as np\n",
    "import pandas as pd\n",
    "import matplotlib.pyplot as plt\n",
    "import sklearn\n"
   ]
  },
  {
   "cell_type": "code",
   "execution_count": 21,
   "metadata": {},
   "outputs": [],
   "source": [
    "df = pd.read_csv(\"C:\\\\Users\\\\User\\\\Documents\\\\4. Fourth Year\\\\Project\\\\Railway-Fares\\\\Datasets\\\\data_in.csv\")\n",
    "train=df.sample(frac=0.8)\n",
    "test=df.drop(train.index)\n",
    "\n",
    "y_train = train[[\"FARE\"]]\n",
    "y_test = test[[\"FARE\"]]"
   ]
  },
  {
   "cell_type": "code",
   "execution_count": 22,
   "metadata": {},
   "outputs": [],
   "source": [
    "X_train_dist = train[[\"Distance\"]]\n",
    "X_test_dist = test[[\"Distance\"]]"
   ]
  },
  {
   "cell_type": "code",
   "execution_count": 23,
   "metadata": {},
   "outputs": [
    {
     "name": "stdout",
     "output_type": "stream",
     "text": [
      "0.7868058866662878\n"
     ]
    }
   ],
   "source": [
    "from sklearn.linear_model import LinearRegression\n",
    "\n",
    "lin_reg_dist = LinearRegression().fit(X_train_dist, y_train)\n",
    "print(lin_reg_dist.score(X_test_dist, y_test))"
   ]
  },
  {
   "cell_type": "code",
   "execution_count": 24,
   "metadata": {},
   "outputs": [],
   "source": [
    "X_train_simd = train[list(set(df.columns).difference({\"ORIGIN_CODE\", \"DESTINATION_CODE\", \"Distance\", \"FARE\"}))]\n",
    "X_test_simd = test[list(set(df.columns).difference({\"ORIGIN_CODE\", \"DESTINATION_CODE\", \"Distance\", \"FARE\"}))]"
   ]
  },
  {
   "cell_type": "code",
   "execution_count": 25,
   "metadata": {},
   "outputs": [
    {
     "name": "stdout",
     "output_type": "stream",
     "text": [
      "0.22051398119426469\n"
     ]
    }
   ],
   "source": [
    "lin_reg_simd = LinearRegression().fit(X_train_simd, y_train)\n",
    "print(lin_reg_simd.score(X_test_simd, y_test))"
   ]
  },
  {
   "cell_type": "code",
   "execution_count": 26,
   "metadata": {},
   "outputs": [],
   "source": [
    "X_train_full = train[list(set(df.columns).difference({\"ORIGIN_CODE\", \"DESTINATION_CODE\", \"FARE\"}))]\n",
    "X_test_full = test[list(set(df.columns).difference({\"ORIGIN_CODE\", \"DESTINATION_CODE\", \"FARE\"}))]"
   ]
  },
  {
   "cell_type": "code",
   "execution_count": 31,
   "metadata": {},
   "outputs": [
    {
     "name": "stdout",
     "output_type": "stream",
     "text": [
      "0.8044748063351148\n"
     ]
    }
   ],
   "source": [
    "lin_reg_full = LinearRegression().fit(X_train_full, y_train)\n",
    "print(lin_reg_full.score(X_test_full, y_test))"
   ]
  },
  {
   "cell_type": "code",
   "execution_count": 30,
   "metadata": {},
   "outputs": [
    {
     "data": {
      "text/plain": [
       "[('difference_income_rate', 236266479.1993123),\n",
       " ('overcrowded_rate.origin', 168855762.49706352),\n",
       " ('difference_PT_post', 675049662.5178033),\n",
       " ('difference_PT_retail', -11828095.973765392),\n",
       " ('PT_post.destination', -675049648.9520714),\n",
       " ('PT_post.origin', 675049674.3788204),\n",
       " ('nocentralheating_rate.origin', -77347188.06131224),\n",
       " ('Distance', 20.736199056879137),\n",
       " ('drive_primary.destination', 412736015.06247604),\n",
       " ('employment_rate.destination', 199486644.75503385),\n",
       " ('drive_post.origin', -222938847.82156202),\n",
       " ('income_rate.destination', -236265549.62730074),\n",
       " ('PT_GP.destination', -692788135.5683745),\n",
       " ('difference_PT_GP', 692788137.5262961),\n",
       " ('difference_drive_petrol', -362184939.2044934),\n",
       " ('PT_retail.destination', 11828086.148284247),\n",
       " ('drive_post.destination', 222938756.60901022),\n",
       " ('PT_retail.origin', -11828105.715466753),\n",
       " ('difference_drive_retail', -476120526.7410282),\n",
       " ('difference_drive_primary', -412735990.30614585),\n",
       " ('drive_retail.origin', -476120517.241672),\n",
       " ('drive_GP.origin', 1683044781.8529398),\n",
       " ('drive_secondary.origin', 554107504.3284876),\n",
       " ('drive_petrol.destination', 362184948.25250995),\n",
       " ('drive_GP.destination', -1683044789.9913154),\n",
       " ('drive_primary.origin', -412735968.2222923),\n",
       " ('employment_rate.origin', -199490779.93770295),\n",
       " ('income_rate.origin', 236267506.5822565),\n",
       " ('overcrowded_rate.destination', -168857400.14809397),\n",
       " ('difference_crime_rate', -94868266.23538664),\n",
       " ('drive_secondary.destination', -554107484.5327296),\n",
       " ('difference_nocentralheating_rate', -77350933.85019638),\n",
       " ('difference_drive_post', -222938803.6141805),\n",
       " ('nocentralheating_rate.destination', 77354698.00873677),\n",
       " ('difference_drive_secondary', 554107494.8360418),\n",
       " ('difference_drive_GP', 1683044785.1118803),\n",
       " ('drive_petrol.origin', -362184930.92157775),\n",
       " ('drive_retail.destination', 476120535.03901756),\n",
       " ('crime_rate.origin', -94867809.11468194),\n",
       " ('crime_rate.destination', 94868679.55802982),\n",
       " ('difference_employment_rate', -199488614.44760352),\n",
       " ('PT_GP.origin', 692788138.3477415),\n",
       " ('difference_overcrowded_rate', 168856592.74593824)]"
      ]
     },
     "execution_count": 30,
     "metadata": {},
     "output_type": "execute_result"
    }
   ],
   "source": [
    "list(zip(X_train_full.columns ,lin_reg_full.coef_[0]))"
   ]
  },
  {
   "cell_type": "code",
   "execution_count": null,
   "metadata": {},
   "outputs": [],
   "source": []
  },
  {
   "cell_type": "code",
   "execution_count": null,
   "metadata": {},
   "outputs": [],
   "source": []
  }
 ],
 "metadata": {
  "kernelspec": {
   "display_name": "Python 3",
   "language": "python",
   "name": "python3"
  },
  "language_info": {
   "codemirror_mode": {
    "name": "ipython",
    "version": 3
   },
   "file_extension": ".py",
   "mimetype": "text/x-python",
   "name": "python",
   "nbconvert_exporter": "python",
   "pygments_lexer": "ipython3",
   "version": "3.7.9"
  }
 },
 "nbformat": 4,
 "nbformat_minor": 4
}
