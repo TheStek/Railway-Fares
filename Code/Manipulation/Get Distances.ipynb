{
 "cells": [
  {
   "cell_type": "code",
   "execution_count": 1,
   "metadata": {},
   "outputs": [],
   "source": [
    "import numpy as np\n",
    "import pandas as pd"
   ]
  },
  {
   "cell_type": "code",
   "execution_count": 2,
   "metadata": {},
   "outputs": [],
   "source": [
    "data_path = \"C:\\\\Users\\\\User\\\\Documents\\\\4. Fourth Year\\\\Project\\\\Railway-Fares\\\\Data\\\\Cleansed Data\\\\\"\n",
    "\n",
    "stations = pd.read_csv(data_path + \"station.csv\", dtype = str).astype({\"lat\": \"float64\", \"lon\": \"float64\"})\n",
    "stations = stations[[\"NLC\", \"lat\", \"lon\"]]"
   ]
  },
  {
   "cell_type": "code",
   "execution_count": 3,
   "metadata": {},
   "outputs": [],
   "source": [
    "def haversine_np(lon1, lat1, lon2, lat2):\n",
    "    \"\"\"\n",
    "    Calculate the great circle distance between two points\n",
    "    on the earth (specified in decimal degrees)\n",
    "\n",
    "    All args must be of equal length.    \n",
    "\n",
    "    \"\"\"\n",
    "    lon1, lat1, lon2, lat2 = map(np.radians, [lon1, lat1, lon2, lat2])\n",
    "\n",
    "    dlon = lon2 - lon1\n",
    "    dlat = lat2 - lat1\n",
    "\n",
    "    a = np.sin(dlat/2.0)**2 + np.cos(lat1) * np.cos(lat2) * np.sin(dlon/2.0)**2\n",
    "\n",
    "    c = 2 * np.arcsin(np.sqrt(a))\n",
    "    km = 6367 * c\n",
    "    return km"
   ]
  },
  {
   "cell_type": "code",
   "execution_count": 4,
   "metadata": {},
   "outputs": [
    {
     "name": "stdout",
     "output_type": "stream",
     "text": [
      "Index(['Origin', 'lat1', 'lon1', 'Destination', 'lat2', 'lon2'], dtype='object') 132496\n"
     ]
    }
   ],
   "source": [
    "df_origin = stations.rename(columns =  {\"lat\": \"lat1\", \"lon\": \"lon1\", \"NLC\" : \"Origin\"})\n",
    "df_dest = stations.rename(columns = {\"lat\": \"lat2\", \"lon\": \"lon2\", \"NLC\" : \"Destination\"})\n",
    "\n",
    "df_cross = df_origin.merge(df_dest, how = \"cross\")\n",
    "\n",
    "print(df_cross.columns, len(df_cross))\n",
    "\n",
    "df_cross[\"Distance\"] = haversine_np(df_cross[\"lon1\"], df_cross[\"lat1\"], df_cross[\"lon2\"], df_cross[\"lat2\"])\n",
    "\n",
    "\n",
    "df_out = df_cross[df_cross[\"Origin\"] != df_cross[\"Destination\"]]"
   ]
  },
  {
   "cell_type": "code",
   "execution_count": 6,
   "metadata": {},
   "outputs": [],
   "source": [
    "df_out[[\"Origin\", \"Destination\", \"Distance\"]].to_csv(data_path + \"distances.csv\", index = False)"
   ]
  },
  {
   "cell_type": "code",
   "execution_count": null,
   "metadata": {},
   "outputs": [],
   "source": []
  }
 ],
 "metadata": {
  "kernelspec": {
   "display_name": "Python 3",
   "language": "python",
   "name": "python3"
  },
  "language_info": {
   "codemirror_mode": {
    "name": "ipython",
    "version": 3
   },
   "file_extension": ".py",
   "mimetype": "text/x-python",
   "name": "python",
   "nbconvert_exporter": "python",
   "pygments_lexer": "ipython3",
   "version": "3.7.9"
  }
 },
 "nbformat": 4,
 "nbformat_minor": 4
}
