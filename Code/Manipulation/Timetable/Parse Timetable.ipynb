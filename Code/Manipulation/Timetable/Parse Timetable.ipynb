{
 "cells": [
  {
   "cell_type": "code",
   "execution_count": 1,
   "metadata": {},
   "outputs": [],
   "source": [
    "import numpy as np\n",
    "import pandas as pd"
   ]
  },
  {
   "cell_type": "code",
   "execution_count": 3,
   "metadata": {},
   "outputs": [],
   "source": [
    "stations = pd.read_csv(\"C:\\\\Users\\\\User\\\\Documents\\\\4. Fourth Year\\\\Project\\\\Railway-Fares\\\\Data\\\\Cleansed Data\\\\station.csv\")"
   ]
  },
  {
   "cell_type": "code",
   "execution_count": 7,
   "metadata": {},
   "outputs": [],
   "source": [
    "crs_scope = list(stations[\"CRS\"])"
   ]
  },
  {
   "cell_type": "code",
   "execution_count": 13,
   "metadata": {},
   "outputs": [],
   "source": [
    "with open(r\"C:\\Users\\User\\Documents\\4. Fourth Year\\Project\\Railway-Fares\\Data\\Timetable Data\\ttisf194.mca\", 'r') as f:\n",
    "    records = f.read().split('\\n')"
   ]
  },
  {
   "cell_type": "code",
   "execution_count": 19,
   "metadata": {},
   "outputs": [],
   "source": [
    "tiploc = list(filter(lambda x: x[:2] == 'TI', records))"
   ]
  },
  {
   "cell_type": "code",
   "execution_count": 22,
   "metadata": {},
   "outputs": [],
   "source": [
    "tiploc_scope  = list(filter(lambda x: x[53:56] in crs_scope, tiploc))"
   ]
  },
  {
   "cell_type": "code",
   "execution_count": 24,
   "metadata": {},
   "outputs": [],
   "source": [
    "tiploc_scope = list(map(lambda x: x[2:9], tiploc_scope))"
   ]
  },
  {
   "cell_type": "code",
   "execution_count": 26,
   "metadata": {},
   "outputs": [],
   "source": [
    "routes = []\n",
    "currently_reading = False\n",
    "for record in records:\n",
    "    if currently_reading:\n",
    "        if record[:2] == \"LT\" and record[2: 9] in tiploc_scope:\n",
    "            current_route.append(record)\n",
    "            routes.append(current_route)\n",
    "            currently_reading = False\n",
    "            \n",
    "        elif record[:2] == \"LI\":\n",
    "            current_route.append(record)\n",
    "        \n",
    "        else:\n",
    "            continue\n",
    "            \n",
    "    \n",
    "    else:\n",
    "        if record[:2] == \"LO\" and record[2: 9] in tiploc_scope:\n",
    "            current_route = [record,]\n",
    "            currently_reading = True\n",
    "        else:\n",
    "            continue"
   ]
  },
  {
   "cell_type": "code",
   "execution_count": 28,
   "metadata": {},
   "outputs": [
    {
     "data": {
      "text/plain": [
       "15844"
      ]
     },
     "execution_count": 28,
     "metadata": {},
     "output_type": "execute_result"
    }
   ],
   "source": [
    "len(routes)"
   ]
  },
  {
   "cell_type": "code",
   "execution_count": 29,
   "metadata": {},
   "outputs": [
    {
     "data": {
      "text/plain": [
       "360"
      ]
     },
     "execution_count": 29,
     "metadata": {},
     "output_type": "execute_result"
    }
   ],
   "source": [
    "len(tiploc_scope)"
   ]
  },
  {
   "cell_type": "code",
   "execution_count": null,
   "metadata": {},
   "outputs": [],
   "source": []
  }
 ],
 "metadata": {
  "kernelspec": {
   "display_name": "Python 3",
   "language": "python",
   "name": "python3"
  },
  "language_info": {
   "codemirror_mode": {
    "name": "ipython",
    "version": 3
   },
   "file_extension": ".py",
   "mimetype": "text/x-python",
   "name": "python",
   "nbconvert_exporter": "python",
   "pygments_lexer": "ipython3",
   "version": "3.7.9"
  }
 },
 "nbformat": 4,
 "nbformat_minor": 4
}
